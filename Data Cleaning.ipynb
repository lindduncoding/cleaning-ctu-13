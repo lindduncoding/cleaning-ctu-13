{
 "cells": [
  {
   "cell_type": "markdown",
   "id": "2fde1b99",
   "metadata": {},
   "source": [
    "# Data Cleaning of The CTU-13 Dataset (Neris-1)\n",
    "\n",
    "Fidelya Fredelina - 22/496507/TK/54405"
   ]
  },
  {
   "cell_type": "code",
   "execution_count": 1,
   "id": "4edad9b5",
   "metadata": {},
   "outputs": [],
   "source": [
    "import pandas as pd\n",
    "import numpy as np\n",
    "import matplotlib.pyplot as plt\n",
    "import seaborn as sns"
   ]
  },
  {
   "cell_type": "code",
   "execution_count": 32,
   "id": "3c70bb67",
   "metadata": {},
   "outputs": [
    {
     "name": "stdout",
     "output_type": "stream",
     "text": [
      "Collecting missingno\n",
      "  Downloading missingno-0.5.2-py3-none-any.whl.metadata (639 bytes)\n",
      "Requirement already satisfied: numpy in /home/fred/anaconda3/lib/python3.11/site-packages (from missingno) (1.24.3)\n",
      "Requirement already satisfied: matplotlib in /home/fred/anaconda3/lib/python3.11/site-packages (from missingno) (3.7.2)\n",
      "Requirement already satisfied: scipy in /home/fred/anaconda3/lib/python3.11/site-packages (from missingno) (1.11.1)\n",
      "Requirement already satisfied: seaborn in /home/fred/anaconda3/lib/python3.11/site-packages (from missingno) (0.12.2)\n",
      "Requirement already satisfied: contourpy>=1.0.1 in /home/fred/anaconda3/lib/python3.11/site-packages (from matplotlib->missingno) (1.0.5)\n",
      "Requirement already satisfied: cycler>=0.10 in /home/fred/anaconda3/lib/python3.11/site-packages (from matplotlib->missingno) (0.11.0)\n",
      "Requirement already satisfied: fonttools>=4.22.0 in /home/fred/anaconda3/lib/python3.11/site-packages (from matplotlib->missingno) (4.25.0)\n",
      "Requirement already satisfied: kiwisolver>=1.0.1 in /home/fred/anaconda3/lib/python3.11/site-packages (from matplotlib->missingno) (1.4.4)\n",
      "Requirement already satisfied: packaging>=20.0 in /home/fred/anaconda3/lib/python3.11/site-packages (from matplotlib->missingno) (23.1)\n",
      "Requirement already satisfied: pillow>=6.2.0 in /home/fred/anaconda3/lib/python3.11/site-packages (from matplotlib->missingno) (9.4.0)\n",
      "Requirement already satisfied: pyparsing<3.1,>=2.3.1 in /home/fred/anaconda3/lib/python3.11/site-packages (from matplotlib->missingno) (3.0.9)\n",
      "Requirement already satisfied: python-dateutil>=2.7 in /home/fred/anaconda3/lib/python3.11/site-packages (from matplotlib->missingno) (2.8.2)\n",
      "Requirement already satisfied: pandas>=0.25 in /home/fred/anaconda3/lib/python3.11/site-packages (from seaborn->missingno) (2.0.3)\n",
      "Requirement already satisfied: pytz>=2020.1 in /home/fred/anaconda3/lib/python3.11/site-packages (from pandas>=0.25->seaborn->missingno) (2023.3.post1)\n",
      "Requirement already satisfied: tzdata>=2022.1 in /home/fred/anaconda3/lib/python3.11/site-packages (from pandas>=0.25->seaborn->missingno) (2023.3)\n",
      "Requirement already satisfied: six>=1.5 in /home/fred/anaconda3/lib/python3.11/site-packages (from python-dateutil>=2.7->matplotlib->missingno) (1.16.0)\n",
      "Downloading missingno-0.5.2-py3-none-any.whl (8.7 kB)\n",
      "Installing collected packages: missingno\n",
      "Successfully installed missingno-0.5.2\n"
     ]
    }
   ],
   "source": [
    "! pip install missingno"
   ]
  },
  {
   "cell_type": "markdown",
   "id": "f8bcc357",
   "metadata": {},
   "source": [
    "## Exploring Binetflow\n",
    "\n",
    "I will only be exploring the binetflow file since they generate the binetflow file from the pcap (read: https://www.stratosphereips.org/datasets-faq). The pcap provided is only for the botnet flow, but the binetflow also includes background/normal traffic. This suggests the binetflow file is generated from the full pcap capture that is not made public for privacy reasons. Thus I think there's no need to combine between the pcap csv and binetflow csv (since they're basically telling the same story i.e redundant)."
   ]
  },
  {
   "cell_type": "code",
   "execution_count": 4,
   "id": "c36123a1",
   "metadata": {},
   "outputs": [
    {
     "data": {
      "text/html": [
       "<div>\n",
       "<style scoped>\n",
       "    .dataframe tbody tr th:only-of-type {\n",
       "        vertical-align: middle;\n",
       "    }\n",
       "\n",
       "    .dataframe tbody tr th {\n",
       "        vertical-align: top;\n",
       "    }\n",
       "\n",
       "    .dataframe thead th {\n",
       "        text-align: right;\n",
       "    }\n",
       "</style>\n",
       "<table border=\"1\" class=\"dataframe\">\n",
       "  <thead>\n",
       "    <tr style=\"text-align: right;\">\n",
       "      <th></th>\n",
       "      <th>StartTime</th>\n",
       "      <th>Dur</th>\n",
       "      <th>Proto</th>\n",
       "      <th>SrcAddr</th>\n",
       "      <th>Sport</th>\n",
       "      <th>Dir</th>\n",
       "      <th>DstAddr</th>\n",
       "      <th>Dport</th>\n",
       "      <th>State</th>\n",
       "      <th>sTos</th>\n",
       "      <th>dTos</th>\n",
       "      <th>TotPkts</th>\n",
       "      <th>TotBytes</th>\n",
       "      <th>SrcBytes</th>\n",
       "      <th>Label</th>\n",
       "    </tr>\n",
       "  </thead>\n",
       "  <tbody>\n",
       "    <tr>\n",
       "      <th>0</th>\n",
       "      <td>2011/08/10 09:46:59.607825</td>\n",
       "      <td>1.026539</td>\n",
       "      <td>tcp</td>\n",
       "      <td>94.44.127.113</td>\n",
       "      <td>1577</td>\n",
       "      <td>-&gt;</td>\n",
       "      <td>147.32.84.59</td>\n",
       "      <td>6881</td>\n",
       "      <td>S_RA</td>\n",
       "      <td>0.0</td>\n",
       "      <td>0.0</td>\n",
       "      <td>4</td>\n",
       "      <td>276</td>\n",
       "      <td>156</td>\n",
       "      <td>flow=Background-Established-cmpgw-CVUT</td>\n",
       "    </tr>\n",
       "    <tr>\n",
       "      <th>1</th>\n",
       "      <td>2011/08/10 09:47:00.634364</td>\n",
       "      <td>1.009595</td>\n",
       "      <td>tcp</td>\n",
       "      <td>94.44.127.113</td>\n",
       "      <td>1577</td>\n",
       "      <td>-&gt;</td>\n",
       "      <td>147.32.84.59</td>\n",
       "      <td>6881</td>\n",
       "      <td>S_RA</td>\n",
       "      <td>0.0</td>\n",
       "      <td>0.0</td>\n",
       "      <td>4</td>\n",
       "      <td>276</td>\n",
       "      <td>156</td>\n",
       "      <td>flow=Background-Established-cmpgw-CVUT</td>\n",
       "    </tr>\n",
       "    <tr>\n",
       "      <th>2</th>\n",
       "      <td>2011/08/10 09:47:48.185538</td>\n",
       "      <td>3.056586</td>\n",
       "      <td>tcp</td>\n",
       "      <td>147.32.86.89</td>\n",
       "      <td>4768</td>\n",
       "      <td>-&gt;</td>\n",
       "      <td>77.75.73.33</td>\n",
       "      <td>80</td>\n",
       "      <td>SR_A</td>\n",
       "      <td>0.0</td>\n",
       "      <td>0.0</td>\n",
       "      <td>3</td>\n",
       "      <td>182</td>\n",
       "      <td>122</td>\n",
       "      <td>flow=Background-TCP-Attempt</td>\n",
       "    </tr>\n",
       "    <tr>\n",
       "      <th>3</th>\n",
       "      <td>2011/08/10 09:47:48.230897</td>\n",
       "      <td>3.111769</td>\n",
       "      <td>tcp</td>\n",
       "      <td>147.32.86.89</td>\n",
       "      <td>4788</td>\n",
       "      <td>-&gt;</td>\n",
       "      <td>77.75.73.33</td>\n",
       "      <td>80</td>\n",
       "      <td>SR_A</td>\n",
       "      <td>0.0</td>\n",
       "      <td>0.0</td>\n",
       "      <td>3</td>\n",
       "      <td>182</td>\n",
       "      <td>122</td>\n",
       "      <td>flow=Background-TCP-Attempt</td>\n",
       "    </tr>\n",
       "    <tr>\n",
       "      <th>4</th>\n",
       "      <td>2011/08/10 09:47:48.963351</td>\n",
       "      <td>3.083411</td>\n",
       "      <td>tcp</td>\n",
       "      <td>147.32.86.89</td>\n",
       "      <td>4850</td>\n",
       "      <td>-&gt;</td>\n",
       "      <td>77.75.73.33</td>\n",
       "      <td>80</td>\n",
       "      <td>SR_A</td>\n",
       "      <td>0.0</td>\n",
       "      <td>0.0</td>\n",
       "      <td>3</td>\n",
       "      <td>182</td>\n",
       "      <td>122</td>\n",
       "      <td>flow=Background-TCP-Attempt</td>\n",
       "    </tr>\n",
       "  </tbody>\n",
       "</table>\n",
       "</div>"
      ],
      "text/plain": [
       "                    StartTime       Dur Proto        SrcAddr Sport    Dir  \\\n",
       "0  2011/08/10 09:46:59.607825  1.026539   tcp  94.44.127.113  1577     ->   \n",
       "1  2011/08/10 09:47:00.634364  1.009595   tcp  94.44.127.113  1577     ->   \n",
       "2  2011/08/10 09:47:48.185538  3.056586   tcp   147.32.86.89  4768     ->   \n",
       "3  2011/08/10 09:47:48.230897  3.111769   tcp   147.32.86.89  4788     ->   \n",
       "4  2011/08/10 09:47:48.963351  3.083411   tcp   147.32.86.89  4850     ->   \n",
       "\n",
       "        DstAddr Dport State  sTos  dTos  TotPkts  TotBytes  SrcBytes  \\\n",
       "0  147.32.84.59  6881  S_RA   0.0   0.0        4       276       156   \n",
       "1  147.32.84.59  6881  S_RA   0.0   0.0        4       276       156   \n",
       "2   77.75.73.33    80  SR_A   0.0   0.0        3       182       122   \n",
       "3   77.75.73.33    80  SR_A   0.0   0.0        3       182       122   \n",
       "4   77.75.73.33    80  SR_A   0.0   0.0        3       182       122   \n",
       "\n",
       "                                    Label  \n",
       "0  flow=Background-Established-cmpgw-CVUT  \n",
       "1  flow=Background-Established-cmpgw-CVUT  \n",
       "2             flow=Background-TCP-Attempt  \n",
       "3             flow=Background-TCP-Attempt  \n",
       "4             flow=Background-TCP-Attempt  "
      ]
     },
     "execution_count": 4,
     "metadata": {},
     "output_type": "execute_result"
    }
   ],
   "source": [
    "binetflow_df = pd.read_csv('./CTU-13-Dataset/1/capture20110810.binetflow')\n",
    "binetflow_df.head()"
   ]
  },
  {
   "cell_type": "code",
   "execution_count": 4,
   "id": "3f172995",
   "metadata": {},
   "outputs": [
    {
     "data": {
      "text/plain": [
       "(2824636, 15)"
      ]
     },
     "execution_count": 4,
     "metadata": {},
     "output_type": "execute_result"
    }
   ],
   "source": [
    "binetflow_df.shape"
   ]
  },
  {
   "cell_type": "markdown",
   "id": "4a2452ce",
   "metadata": {},
   "source": [
    "I really underestimated just how big this dataset is, this is just ONE scenario out of 13. It doesn't really have that huge of a dimension though, we'll explore dimension in the next section. Right now I want to focus on numerosity."
   ]
  },
  {
   "cell_type": "code",
   "execution_count": 5,
   "id": "31960b51",
   "metadata": {},
   "outputs": [
    {
     "data": {
      "text/plain": [
       "StartTime     object\n",
       "Dur          float64\n",
       "Proto         object\n",
       "SrcAddr       object\n",
       "Sport         object\n",
       "Dir           object\n",
       "DstAddr       object\n",
       "Dport         object\n",
       "State         object\n",
       "sTos         float64\n",
       "dTos         float64\n",
       "TotPkts        int64\n",
       "TotBytes       int64\n",
       "SrcBytes       int64\n",
       "Label         object\n",
       "dtype: object"
      ]
     },
     "execution_count": 5,
     "metadata": {},
     "output_type": "execute_result"
    }
   ],
   "source": [
    "binetflow_df.dtypes"
   ]
  },
  {
   "cell_type": "code",
   "execution_count": 6,
   "id": "8e691884",
   "metadata": {},
   "outputs": [
    {
     "name": "stdout",
     "output_type": "stream",
     "text": [
      "Num of unique values in StartTime:\n",
      "2824636\n",
      "Num of unique values in Dur:\n",
      "1073189\n",
      "Num of unique values in Proto:\n",
      "15\n",
      "Num of unique values in SrcAddr:\n",
      "542093\n",
      "Num of unique values in Sport:\n",
      "64752\n",
      "Num of unique values in Dir:\n",
      "7\n",
      "Num of unique values in DstAddr:\n",
      "119296\n",
      "Num of unique values in Dport:\n",
      "73786\n",
      "Num of unique values in State:\n",
      "230\n",
      "Num of unique values in sTos:\n",
      "5\n",
      "Num of unique values in dTos:\n",
      "4\n",
      "Num of unique values in TotPkts:\n",
      "3548\n",
      "Num of unique values in TotBytes:\n",
      "69949\n",
      "Num of unique values in SrcBytes:\n",
      "27124\n",
      "Num of unique values in Label:\n",
      "113\n"
     ]
    }
   ],
   "source": [
    "# Counting unique values\n",
    "\n",
    "for col in binetflow_df.columns:\n",
    "    print(f\"Num of unique values in {col}:\")\n",
    "    print(binetflow_df[col].nunique())"
   ]
  },
  {
   "cell_type": "markdown",
   "id": "d7988c20",
   "metadata": {},
   "source": [
    "## Inconsistent Data Types\n",
    "\n",
    "First step of cleaning is to clean inconsistent data type. For example, the StartTime feature can be converted to datetime instead. Proto (Protocol), State, Dir (Direction), sTos (Source Type of Service), and dTos (Destination Type of Service) can better be converted to categorical, judging from their number of unique values and some domain knowledge (see: https://www.systutorials.com/docs/linux/man/1-ra/ and https://en.wikipedia.org/wiki/Type_of_service). Label can also be simplied to Background and Botnet, but since this would involve string cleaning, it's going to be cleaned in the next section using more sophisticated methods. "
   ]
  },
  {
   "cell_type": "code",
   "execution_count": 19,
   "id": "72b32f64",
   "metadata": {},
   "outputs": [],
   "source": [
    "binetflow_df['StartTime'] = pd.to_datetime(binetflow_df['StartTime'])\n",
    "binetflow_df['sTos'] = binetflow_df['sTos'].astype('category')\n",
    "binetflow_df['dTos'] = binetflow_df['dTos'].astype('category')\n",
    "binetflow_df['Proto'] = binetflow_df['Proto'].astype('category')\n",
    "binetflow_df['Dir'] = binetflow_df['Dir'].astype('category')"
   ]
  },
  {
   "cell_type": "code",
   "execution_count": 6,
   "id": "c84db3b1",
   "metadata": {},
   "outputs": [
    {
     "data": {
      "text/html": [
       "<div>\n",
       "<style scoped>\n",
       "    .dataframe tbody tr th:only-of-type {\n",
       "        vertical-align: middle;\n",
       "    }\n",
       "\n",
       "    .dataframe tbody tr th {\n",
       "        vertical-align: top;\n",
       "    }\n",
       "\n",
       "    .dataframe thead th {\n",
       "        text-align: right;\n",
       "    }\n",
       "</style>\n",
       "<table border=\"1\" class=\"dataframe\">\n",
       "  <thead>\n",
       "    <tr style=\"text-align: right;\">\n",
       "      <th></th>\n",
       "      <th>StartTime</th>\n",
       "      <th>Dur</th>\n",
       "      <th>Proto</th>\n",
       "      <th>SrcAddr</th>\n",
       "      <th>Sport</th>\n",
       "      <th>Dir</th>\n",
       "      <th>DstAddr</th>\n",
       "      <th>Dport</th>\n",
       "      <th>State</th>\n",
       "      <th>sTos</th>\n",
       "      <th>dTos</th>\n",
       "      <th>TotPkts</th>\n",
       "      <th>TotBytes</th>\n",
       "      <th>SrcBytes</th>\n",
       "      <th>Label</th>\n",
       "    </tr>\n",
       "  </thead>\n",
       "  <tbody>\n",
       "    <tr>\n",
       "      <th>0</th>\n",
       "      <td>2011-08-10 09:46:59.607825</td>\n",
       "      <td>1.026539</td>\n",
       "      <td>tcp</td>\n",
       "      <td>94.44.127.113</td>\n",
       "      <td>1577</td>\n",
       "      <td>-&gt;</td>\n",
       "      <td>147.32.84.59</td>\n",
       "      <td>6881</td>\n",
       "      <td>S_RA</td>\n",
       "      <td>0.0</td>\n",
       "      <td>0.0</td>\n",
       "      <td>4</td>\n",
       "      <td>276</td>\n",
       "      <td>156</td>\n",
       "      <td>flow=Background-Established-cmpgw-CVUT</td>\n",
       "    </tr>\n",
       "    <tr>\n",
       "      <th>1</th>\n",
       "      <td>2011-08-10 09:47:00.634364</td>\n",
       "      <td>1.009595</td>\n",
       "      <td>tcp</td>\n",
       "      <td>94.44.127.113</td>\n",
       "      <td>1577</td>\n",
       "      <td>-&gt;</td>\n",
       "      <td>147.32.84.59</td>\n",
       "      <td>6881</td>\n",
       "      <td>S_RA</td>\n",
       "      <td>0.0</td>\n",
       "      <td>0.0</td>\n",
       "      <td>4</td>\n",
       "      <td>276</td>\n",
       "      <td>156</td>\n",
       "      <td>flow=Background-Established-cmpgw-CVUT</td>\n",
       "    </tr>\n",
       "    <tr>\n",
       "      <th>2</th>\n",
       "      <td>2011-08-10 09:47:48.185538</td>\n",
       "      <td>3.056586</td>\n",
       "      <td>tcp</td>\n",
       "      <td>147.32.86.89</td>\n",
       "      <td>4768</td>\n",
       "      <td>-&gt;</td>\n",
       "      <td>77.75.73.33</td>\n",
       "      <td>80</td>\n",
       "      <td>SR_A</td>\n",
       "      <td>0.0</td>\n",
       "      <td>0.0</td>\n",
       "      <td>3</td>\n",
       "      <td>182</td>\n",
       "      <td>122</td>\n",
       "      <td>flow=Background-TCP-Attempt</td>\n",
       "    </tr>\n",
       "    <tr>\n",
       "      <th>3</th>\n",
       "      <td>2011-08-10 09:47:48.230897</td>\n",
       "      <td>3.111769</td>\n",
       "      <td>tcp</td>\n",
       "      <td>147.32.86.89</td>\n",
       "      <td>4788</td>\n",
       "      <td>-&gt;</td>\n",
       "      <td>77.75.73.33</td>\n",
       "      <td>80</td>\n",
       "      <td>SR_A</td>\n",
       "      <td>0.0</td>\n",
       "      <td>0.0</td>\n",
       "      <td>3</td>\n",
       "      <td>182</td>\n",
       "      <td>122</td>\n",
       "      <td>flow=Background-TCP-Attempt</td>\n",
       "    </tr>\n",
       "    <tr>\n",
       "      <th>4</th>\n",
       "      <td>2011-08-10 09:47:48.963351</td>\n",
       "      <td>3.083411</td>\n",
       "      <td>tcp</td>\n",
       "      <td>147.32.86.89</td>\n",
       "      <td>4850</td>\n",
       "      <td>-&gt;</td>\n",
       "      <td>77.75.73.33</td>\n",
       "      <td>80</td>\n",
       "      <td>SR_A</td>\n",
       "      <td>0.0</td>\n",
       "      <td>0.0</td>\n",
       "      <td>3</td>\n",
       "      <td>182</td>\n",
       "      <td>122</td>\n",
       "      <td>flow=Background-TCP-Attempt</td>\n",
       "    </tr>\n",
       "  </tbody>\n",
       "</table>\n",
       "</div>"
      ],
      "text/plain": [
       "                   StartTime       Dur Proto        SrcAddr Sport    Dir  \\\n",
       "0 2011-08-10 09:46:59.607825  1.026539   tcp  94.44.127.113  1577     ->   \n",
       "1 2011-08-10 09:47:00.634364  1.009595   tcp  94.44.127.113  1577     ->   \n",
       "2 2011-08-10 09:47:48.185538  3.056586   tcp   147.32.86.89  4768     ->   \n",
       "3 2011-08-10 09:47:48.230897  3.111769   tcp   147.32.86.89  4788     ->   \n",
       "4 2011-08-10 09:47:48.963351  3.083411   tcp   147.32.86.89  4850     ->   \n",
       "\n",
       "        DstAddr Dport State sTos dTos  TotPkts  TotBytes  SrcBytes  \\\n",
       "0  147.32.84.59  6881  S_RA  0.0  0.0        4       276       156   \n",
       "1  147.32.84.59  6881  S_RA  0.0  0.0        4       276       156   \n",
       "2   77.75.73.33    80  SR_A  0.0  0.0        3       182       122   \n",
       "3   77.75.73.33    80  SR_A  0.0  0.0        3       182       122   \n",
       "4   77.75.73.33    80  SR_A  0.0  0.0        3       182       122   \n",
       "\n",
       "                                    Label  \n",
       "0  flow=Background-Established-cmpgw-CVUT  \n",
       "1  flow=Background-Established-cmpgw-CVUT  \n",
       "2             flow=Background-TCP-Attempt  \n",
       "3             flow=Background-TCP-Attempt  \n",
       "4             flow=Background-TCP-Attempt  "
      ]
     },
     "execution_count": 6,
     "metadata": {},
     "output_type": "execute_result"
    }
   ],
   "source": [
    "binetflow_df.head()"
   ]
  },
  {
   "cell_type": "code",
   "execution_count": 7,
   "id": "54207cf8",
   "metadata": {},
   "outputs": [
    {
     "data": {
      "text/plain": [
       "StartTime    datetime64[ns]\n",
       "Dur                 float64\n",
       "Proto              category\n",
       "SrcAddr              object\n",
       "Sport                object\n",
       "Dir                category\n",
       "DstAddr              object\n",
       "Dport                object\n",
       "State                object\n",
       "sTos               category\n",
       "dTos               category\n",
       "TotPkts               int64\n",
       "TotBytes              int64\n",
       "SrcBytes              int64\n",
       "Label                object\n",
       "dtype: object"
      ]
     },
     "execution_count": 7,
     "metadata": {},
     "output_type": "execute_result"
    }
   ],
   "source": [
    "binetflow_df.dtypes"
   ]
  },
  {
   "cell_type": "markdown",
   "id": "99c606c7",
   "metadata": {},
   "source": [
    "## Categorical Cleaning\n",
    "\n",
    "Some of the categories can be hard to interpret (I am looking at you, Dir and State). This section will be dedicated for tasks that are exactly that. "
   ]
  },
  {
   "cell_type": "code",
   "execution_count": 8,
   "id": "e942d2f0",
   "metadata": {},
   "outputs": [
    {
     "name": "stdout",
     "output_type": "stream",
     "text": [
      "Unique values in Proto:\n",
      "Proto\n",
      "udp          2270083\n",
      "tcp           507557\n",
      "icmp           39694\n",
      "rtp             2570\n",
      "rtcp            2339\n",
      "igmp            1803\n",
      "arp              477\n",
      "ipv6-icmp         58\n",
      "ipx/spx           13\n",
      "esp               10\n",
      "ipv6              10\n",
      "udt               10\n",
      "pim                7\n",
      "rarp               4\n",
      "unas               1\n",
      "Name: count, dtype: int64\n",
      "Unique values in Dir:\n",
      "Dir\n",
      "  <->    2191885\n",
      "   ->     614958\n",
      "  <-        7065\n",
      "  <?>       6176\n",
      "   ?>       4066\n",
      "  who        481\n",
      "  <?           5\n",
      "Name: count, dtype: int64\n",
      "Unique values in sTos:\n",
      "sTos\n",
      "0.0      2810723\n",
      "2.0         1351\n",
      "3.0          964\n",
      "1.0          632\n",
      "192.0        376\n",
      "Name: count, dtype: int64\n",
      "Unique values in dTos:\n",
      "dTos\n",
      "0.0    2628948\n",
      "2.0        245\n",
      "3.0        211\n",
      "1.0         42\n",
      "Name: count, dtype: int64\n"
     ]
    }
   ],
   "source": [
    "categorical = binetflow_df.select_dtypes(include=['category'])\n",
    "for column in categorical:\n",
    "    print(f\"Unique values in {column}:\")\n",
    "    print(binetflow_df[column].value_counts())"
   ]
  },
  {
   "cell_type": "markdown",
   "id": "3fd8bd97",
   "metadata": {},
   "source": [
    "It seems like the categories in protocol is quite clean. Direction is almost clean (need some whitespace stripping). Turns out the ToS column has some missing values, but source ToS specifically has an out of place value (192??) "
   ]
  },
  {
   "cell_type": "markdown",
   "id": "0fa35149",
   "metadata": {},
   "source": [
    "### Direction"
   ]
  },
  {
   "cell_type": "code",
   "execution_count": 20,
   "id": "faa848ef",
   "metadata": {},
   "outputs": [
    {
     "name": "stdout",
     "output_type": "stream",
     "text": [
      "First instance of each unique value in 'Dir':\n",
      "     Dir         Dir_Translated Proto\n",
      "0     ->        normal outbound   tcp\n",
      "1     ?>       unknown outbound   tcp\n",
      "2     <-         normal inbound  icmp\n",
      "3    <->   normal bidirectional   udp\n",
      "4     <?        unknown inbound   tcp\n",
      "5    <?>  unknown bidirectional   tcp\n",
      "6    who           special case   arp\n"
     ]
    }
   ],
   "source": [
    "# Mapping Direction\n",
    "\n",
    "dir_mapping = {\n",
    "    '<->': 'normal bidirectional',\n",
    "    '->': 'normal outbound',\n",
    "    '<-': 'normal inbound',\n",
    "    '<?': 'unknown inbound',\n",
    "    '<?>': 'unknown bidirectional',\n",
    "    '?>': 'unknown outbound',\n",
    "    'who': 'special case'\n",
    "}\n",
    "\n",
    "# Function to translate 'Dir' values to human-readable categories\n",
    "def translate_dir(dir_value):\n",
    "    return dir_mapping.get(dir_value, 'unknown')\n",
    "\n",
    "binetflow_df['Dir_Translated'] = binetflow_df['Dir'].str.strip().apply(translate_dir)\n",
    "# print(binetflow_df[['Dir', 'Dir_Translated']].head())\n",
    "\n",
    "# Sanity check\n",
    "print(\"First instance of each unique value in 'Dir':\")\n",
    "print(binetflow_df[['Dir', 'Dir_Translated', 'Proto']].groupby('Dir').first().reset_index())\n",
    "\n",
    "# Make the column a categorical column\n",
    "binetflow_df['Dir_Translated'] = binetflow_df['Dir_Translated'].astype('category')"
   ]
  },
  {
   "cell_type": "markdown",
   "id": "a7ac3c3c",
   "metadata": {},
   "source": [
    "### State"
   ]
  },
  {
   "cell_type": "code",
   "execution_count": 10,
   "id": "e0f5c071",
   "metadata": {},
   "outputs": [
    {
     "name": "stdout",
     "output_type": "stream",
     "text": [
      "['S_RA' 'SR_A' 'SR_SA' 'SRPA_SPA' 'RA_' 'SRPA_FSPA' 'FSRPA_FSPA' 'FSA_FSA'\n",
      " 'S_R' 'SRA_SA' 'CON' 'FA_A' 'FA_FA' 'PA_PA' 'FPA_FRPA' 'FPA_RPA'\n",
      " 'FSPA_FSPA' 'PA_A' 'FA_RA' 'PA_FRA' 'FRPA_FPA' 'FPA_FA' 'A_' 'INT' 'FA_'\n",
      " 'S_SA' 'RPA_RPA' 'FPA_FPA' 'PA_RPA' 'FSPA_FSRPA' 'S_' 'SA_R' 'FPA_'\n",
      " 'RPA_PA' 'URP' 'SRPA_FSRPA' 'FRPA_PA' 'URN' 'PA_' 'FA_FPA' 'SPA_FSPA'\n",
      " 'PA_FRPA' 'PA_PAC' 'PA_FPA' 'FRPA_RA' 'TXD' 'RA_FA' 'FRA_' 'ECO'\n",
      " 'FRA_FPA' 'URH' 'SA_' 'SRPA_SRA' 'RPA_FPA' 'FSRPA_SPA' 'PA_R' 'RA_A'\n",
      " 'RED' 'SPA_SRPA' 'FA_R' 'RA_FPA' 'A_PA' 'ECR' 'FSPA_FSRA' 'SPA_SPA'\n",
      " 'FSRPA_FSRPA' 'SRA_FSA' 'FPA_PA' 'FRPA_RPA' 'FPA_RA' 'FPA_FRA' 'FSPA_FSA'\n",
      " 'FRA_FA' 'URFIL' '_FSPA' 'R_' 'FA_FRPA' 'SPA_FSRPA' 'FA_FRA' 'RPA_FRPA'\n",
      " 'RPA_R' 'A_A' 'A_RA' 'SRPA_SA' 'SRA_RA' 'FSPA_SPA' 'RPAC_PA' 'SPA_SRA'\n",
      " 'FSPAC_FSPA' 'PA_RA' 'FRPA_FA' 'A_R' 'SRPA_SRPA' 'RSP' '_FSA' 'URHPRO'\n",
      " 'FSRA_FSA' 'FPA_R' 'SR_' 'FSRPA_SA' '_SRA' 'FSPA_SRPA' 'SA_FSA' 'FRPA_'\n",
      " 'SPA_SA' 'FPA_A' 'FSRPA_FSA' '_SPA' 'FS_SA' 'SR_RA' 'FSRA_SA' 'SA_SRA'\n",
      " 'FSA_SRA' 'FRPA_FRPA' 'SRPA_FSA' 'SPAC_SPA' 'URF' 'SA_RA' 'FRA_R'\n",
      " 'FSPA_SRA' '_SRPA' 'SPA_FSRA' 'S_SRA' 'FSA_FSRA' 'NNS' 'FSRPA_SRPA'\n",
      " 'S_FRA' 'SR_SRA' 'NRS' 'FSA_FSPA' 'SRA_' 'FAU_R' 'FS_' 'FSRPAE_FSPA'\n",
      " 'FSRPAEC_FSPA' 'FSRA_FSPA' 'FSPA_SA' 'FSAU_SA' 'FSR_SA' 'DNP'\n",
      " 'FSRPAC_FSPA' 'SRA_SRA' 'FSRPA_FSRA' 'FSPA_FSPAC' 'FSA_SA' '_SA'\n",
      " 'FSRPA_SRA' 'FSAU_FSA' 'URO' 'RA_S' 'SA_RPA' 'SEC_' 'RPA_' 'SA_SPA'\n",
      " 'SRA_FSPA' 'SPAC_SRPA' 'SPAC_FSPA' 'SA_FSPA' 'A_RPE' 'SRC' 'S_RPA'\n",
      " 'SRPAC_FSPA' 'SRPA_FSRA' 'FSPAC_FSRPA' 'FSPA_FSRPAC' nan 'REQ'\n",
      " 'FSPAC_FSA' 'FSPAC_FSRA' 'DCE' 'FPA_FSPA' 'SRPAC_SPA' '_PA' 'SA_SA'\n",
      " 'SR_FSA' 'SPA_SRPAC' 'FSPAC_SRPA' 'FSRA_SRA' 'SEC_RA' '_R' 'FSRPAC_FSRPA'\n",
      " 'SA_SRPA' 'PAC_RPA' 'FSAU_SRA' 'S_FA' 'FSA_' 'RPA_A' 'RA_PA' 'URNPRO'\n",
      " 'SRA_SPA' 'FSRPAE_FSA' '_FPA' 'SPAC_FSRPA' 'SRPA_SPAC' 'FRPA_FSPA'\n",
      " 'FSPA_FPA' 'SPA_' 'SA_FSRA' 'RPA_FSPA' 'FSAU_FSRA' 'FSPA_FA' 'FSRA_SPA'\n",
      " 'SPA_FSA' 'FSPAC_SRA' 'FSA_FPA' 'MRQ' 'SA_FSRPA' 'FSRPAC_SPA' 'FRA_PA'\n",
      " '_FRPA' 'SREC_SA' 'A_RPA' 'PAC_PA' 'SA_FR' 'FSRA_FSRPA' 'FSPAC_SPA' 'UNK'\n",
      " 'FSA_FSRPA' '_FA' '_FSRPA' 'S_A' 'FPAC_FPA' 'FPA_FSRPA' 'FSRA_FSRA'\n",
      " 'SRPA_FSPAC' 'SA_A' 'PA_SRA' 'FSRAU_FSA' '_RA' 'FSPAEC_FSPAE' 'FRPA_R']\n"
     ]
    }
   ],
   "source": [
    "print(binetflow_df['State'].unique())"
   ]
  },
  {
   "cell_type": "markdown",
   "id": "ac668295",
   "metadata": {},
   "source": [
    "That's a lot of states. After a little bit of exploring turns out the dataset creator lumps all three features (TCP flag, Non-ICMP state and ICMP state) together to create a total of 230 unique 'States' categories. To make it more readable and interpretable I think it's best to separate these values. Apart from that, the TCP flag category consists of 2 flags from the source and the destination that is separated by the underscore character. That's a lot of feature cleaning... "
   ]
  },
  {
   "cell_type": "markdown",
   "id": "0b3d1f9b",
   "metadata": {},
   "source": [
    "#### ICMP and Non ICMP State\n",
    "\n",
    "In the Argus documentation (see: https://www.systutorials.com/docs/linux/man/1-ra/), it lists a map of states for each of the protocols. We can subset the dataset to check if this is correct. "
   ]
  },
  {
   "cell_type": "code",
   "execution_count": 11,
   "id": "818079fe",
   "metadata": {},
   "outputs": [
    {
     "name": "stdout",
     "output_type": "stream",
     "text": [
      "['URP' 'URN' 'TXD' 'ECO' 'URH' 'RED' 'ECR' 'URFIL' 'URHPRO' 'URF' 'DNP'\n",
      " 'URO' 'SRC' nan 'DCE' 'URNPRO' 'UNK']\n",
      "['S_RA' 'SR_A' 'SR_SA' 'SRPA_SPA' 'RA_' 'SRPA_FSPA' 'FSRPA_FSPA' 'FSA_FSA'\n",
      " 'S_R' 'SRA_SA' 'CON' 'FA_A' 'FA_FA' 'PA_PA' 'FPA_FRPA' 'FPA_RPA'\n",
      " 'FSPA_FSPA' 'PA_A' 'FA_RA' 'PA_FRA' 'FRPA_FPA' 'FPA_FA' 'A_' 'INT' 'FA_'\n",
      " 'S_SA' 'RPA_RPA' 'FPA_FPA' 'PA_RPA' 'FSPA_FSRPA' 'S_' 'SA_R' 'FPA_'\n",
      " 'RPA_PA' 'SRPA_FSRPA' 'FRPA_PA' 'PA_' 'FA_FPA' 'SPA_FSPA' 'PA_FRPA'\n",
      " 'PA_PAC' 'PA_FPA' 'FRPA_RA' 'RA_FA' 'FRA_' 'FRA_FPA' 'SA_' 'SRPA_SRA'\n",
      " 'RPA_FPA' 'FSRPA_SPA' 'PA_R' 'RA_A' 'SPA_SRPA' 'FA_R' 'RA_FPA' 'A_PA'\n",
      " 'FSPA_FSRA' 'SPA_SPA' 'FSRPA_FSRPA' 'SRA_FSA' 'FPA_PA' 'FRPA_RPA'\n",
      " 'FPA_RA' 'FPA_FRA' 'FSPA_FSA' 'FRA_FA' '_FSPA' 'R_' 'FA_FRPA' 'SPA_FSRPA'\n",
      " 'FA_FRA' 'RPA_FRPA' 'RPA_R' 'A_A' 'A_RA' 'SRPA_SA' 'SRA_RA' 'FSPA_SPA'\n",
      " 'RPAC_PA' 'SPA_SRA' 'FSPAC_FSPA' 'PA_RA' 'FRPA_FA' 'A_R' 'SRPA_SRPA'\n",
      " 'RSP' '_FSA' 'FSRA_FSA' 'FPA_R' 'SR_' 'FSRPA_SA' '_SRA' 'FSPA_SRPA'\n",
      " 'SA_FSA' 'FRPA_' 'SPA_SA' 'FPA_A' 'FSRPA_FSA' '_SPA' 'FS_SA' 'SR_RA'\n",
      " 'FSRA_SA' 'SA_SRA' 'FSA_SRA' 'FRPA_FRPA' 'SRPA_FSA' 'SPAC_SPA' 'SA_RA'\n",
      " 'FRA_R' 'FSPA_SRA' '_SRPA' 'SPA_FSRA' 'S_SRA' 'FSA_FSRA' 'NNS'\n",
      " 'FSRPA_SRPA' 'S_FRA' 'SR_SRA' 'NRS' 'FSA_FSPA' 'SRA_' 'FAU_R' 'FS_'\n",
      " 'FSRPAE_FSPA' 'FSRPAEC_FSPA' 'FSRA_FSPA' 'FSPA_SA' 'FSAU_SA' 'FSR_SA'\n",
      " 'FSRPAC_FSPA' 'SRA_SRA' 'FSRPA_FSRA' 'FSPA_FSPAC' 'FSA_SA' '_SA'\n",
      " 'FSRPA_SRA' 'FSAU_FSA' 'RA_S' 'SA_RPA' 'SEC_' 'RPA_' 'SA_SPA' 'SRA_FSPA'\n",
      " 'SPAC_SRPA' 'SPAC_FSPA' 'SA_FSPA' 'A_RPE' 'S_RPA' 'SRPAC_FSPA'\n",
      " 'SRPA_FSRA' 'FSPAC_FSRPA' 'FSPA_FSRPAC' 'REQ' 'FSPAC_FSA' 'FSPAC_FSRA'\n",
      " 'FPA_FSPA' 'SRPAC_SPA' '_PA' 'SA_SA' 'SR_FSA' 'SPA_SRPAC' 'FSPAC_SRPA'\n",
      " 'FSRA_SRA' 'SEC_RA' '_R' 'FSRPAC_FSRPA' 'SA_SRPA' 'PAC_RPA' 'FSAU_SRA'\n",
      " 'S_FA' 'FSA_' 'RPA_A' 'RA_PA' 'SRA_SPA' 'FSRPAE_FSA' '_FPA' 'SPAC_FSRPA'\n",
      " 'SRPA_SPAC' 'FRPA_FSPA' 'FSPA_FPA' 'SPA_' 'SA_FSRA' 'RPA_FSPA'\n",
      " 'FSAU_FSRA' 'FSPA_FA' 'FSRA_SPA' 'SPA_FSA' 'FSPAC_SRA' 'FSA_FPA' 'MRQ'\n",
      " 'SA_FSRPA' 'FSRPAC_SPA' 'FRA_PA' '_FRPA' 'SREC_SA' 'A_RPA' 'PAC_PA'\n",
      " 'SA_FR' 'FSRA_FSRPA' 'FSPAC_SPA' 'UNK' 'FSA_FSRPA' '_FA' '_FSRPA' 'S_A'\n",
      " 'FPAC_FPA' 'FPA_FSRPA' 'FSRA_FSRA' 'SRPA_FSPAC' 'SA_A' 'PA_SRA'\n",
      " 'FSRAU_FSA' '_RA' 'FSPAEC_FSPAE' 'FRPA_R']\n"
     ]
    }
   ],
   "source": [
    "# Subset DataFrame\n",
    "\n",
    "icmp_df = binetflow_df[binetflow_df['Proto'] == 'icmp']\n",
    "non_icmp_df = binetflow_df[binetflow_df['Proto'] != 'icmp']\n",
    "\n",
    "print(icmp_df['State'].unique())\n",
    "print(non_icmp_df['State'].unique())"
   ]
  },
  {
   "cell_type": "markdown",
   "id": "8f22b0db",
   "metadata": {},
   "source": [
    "#### TCP and Non TCP State\n",
    "\n",
    "We can further subset the non_icmp_df to extract the TCP flags by first subsetting the protocol to be equal to TCP and print out the unique values of State"
   ]
  },
  {
   "cell_type": "code",
   "execution_count": 12,
   "id": "e0a201d6",
   "metadata": {},
   "outputs": [
    {
     "name": "stdout",
     "output_type": "stream",
     "text": [
      "['S_RA' 'SR_A' 'SR_SA' 'SRPA_SPA' 'RA_' 'SRPA_FSPA' 'FSRPA_FSPA' 'FSA_FSA'\n",
      " 'S_R' 'SRA_SA' 'FA_A' 'FA_FA' 'PA_PA' 'FPA_FRPA' 'FPA_RPA' 'FSPA_FSPA'\n",
      " 'PA_A' 'FA_RA' 'PA_FRA' 'FRPA_FPA' 'FPA_FA' 'A_' 'FA_' 'S_SA' 'RPA_RPA'\n",
      " 'FPA_FPA' 'PA_RPA' 'FSPA_FSRPA' 'S_' 'SA_R' 'FPA_' 'RPA_PA' 'SRPA_FSRPA'\n",
      " 'FRPA_PA' 'PA_' 'FA_FPA' 'SPA_FSPA' 'PA_FRPA' 'PA_PAC' 'PA_FPA' 'FRPA_RA'\n",
      " 'RA_FA' 'FRA_' 'FRA_FPA' 'SA_' 'SRPA_SRA' 'RPA_FPA' 'FSRPA_SPA' 'PA_R'\n",
      " 'RA_A' 'SPA_SRPA' 'FA_R' 'RA_FPA' 'A_PA' 'FSPA_FSRA' 'SPA_SPA'\n",
      " 'FSRPA_FSRPA' 'SRA_FSA' 'FPA_PA' 'FRPA_RPA' 'FPA_RA' 'FPA_FRA' 'FSPA_FSA'\n",
      " 'FRA_FA' '_FSPA' 'R_' 'FA_FRPA' 'SPA_FSRPA' 'FA_FRA' 'RPA_FRPA' 'RPA_R'\n",
      " 'A_A' 'A_RA' 'SRPA_SA' 'SRA_RA' 'FSPA_SPA' 'RPAC_PA' 'SPA_SRA'\n",
      " 'FSPAC_FSPA' 'PA_RA' 'FRPA_FA' 'A_R' 'SRPA_SRPA' '_FSA' 'FSRA_FSA'\n",
      " 'FPA_R' 'SR_' 'FSRPA_SA' '_SRA' 'FSPA_SRPA' 'SA_FSA' 'FRPA_' 'SPA_SA'\n",
      " 'FPA_A' 'FSRPA_FSA' '_SPA' 'FS_SA' 'SR_RA' 'FSRA_SA' 'SA_SRA' 'FSA_SRA'\n",
      " 'FRPA_FRPA' 'SRPA_FSA' 'SPAC_SPA' 'SA_RA' 'FRA_R' 'FSPA_SRA' '_SRPA'\n",
      " 'SPA_FSRA' 'S_SRA' 'FSA_FSRA' 'FSRPA_SRPA' 'S_FRA' 'SR_SRA' 'FSA_FSPA'\n",
      " 'SRA_' 'FAU_R' 'FS_' 'FSRPAE_FSPA' 'FSRPAEC_FSPA' 'FSRA_FSPA' 'FSPA_SA'\n",
      " 'FSAU_SA' 'FSR_SA' 'FSRPAC_FSPA' 'SRA_SRA' 'FSRPA_FSRA' 'FSPA_FSPAC'\n",
      " 'FSA_SA' '_SA' 'FSRPA_SRA' 'FSAU_FSA' 'RA_S' 'SA_RPA' 'SEC_' 'RPA_'\n",
      " 'SA_SPA' 'SRA_FSPA' 'SPAC_SRPA' 'SPAC_FSPA' 'SA_FSPA' 'A_RPE' 'S_RPA'\n",
      " 'SRPAC_FSPA' 'SRPA_FSRA' 'FSPAC_FSRPA' 'FSPA_FSRPAC' 'FSPAC_FSA'\n",
      " 'FSPAC_FSRA' 'FPA_FSPA' 'SRPAC_SPA' '_PA' 'SA_SA' 'SR_FSA' 'SPA_SRPAC'\n",
      " 'FSPAC_SRPA' 'FSRA_SRA' 'SEC_RA' '_R' 'FSRPAC_FSRPA' 'SA_SRPA' 'PAC_RPA'\n",
      " 'FSAU_SRA' 'S_FA' 'FSA_' 'RPA_A' 'RA_PA' 'SRA_SPA' 'FSRPAE_FSA' '_FPA'\n",
      " 'SPAC_FSRPA' 'SRPA_SPAC' 'FRPA_FSPA' 'FSPA_FPA' 'SPA_' 'SA_FSRA'\n",
      " 'RPA_FSPA' 'FSAU_FSRA' 'FSPA_FA' 'FSRA_SPA' 'SPA_FSA' 'FSPAC_SRA'\n",
      " 'FSA_FPA' 'SA_FSRPA' 'FSRPAC_SPA' 'FRA_PA' '_FRPA' 'SREC_SA' 'A_RPA'\n",
      " 'PAC_PA' 'SA_FR' 'FSRA_FSRPA' 'FSPAC_SPA' 'FSA_FSRPA' '_FA' '_FSRPA'\n",
      " 'S_A' 'FPAC_FPA' 'FPA_FSRPA' 'FSRA_FSRA' 'SRPA_FSPAC' 'SA_A' 'PA_SRA'\n",
      " 'FSRAU_FSA' '_RA' 'FSPAEC_FSPAE' 'FRPA_R']\n",
      "['CON' 'INT' 'RSP' 'NNS' 'NRS' 'REQ' 'MRQ' 'UNK']\n"
     ]
    }
   ],
   "source": [
    "tcp_df = non_icmp_df[non_icmp_df['Proto'] == 'tcp']\n",
    "non_tcp_icmp_df = non_icmp_df[non_icmp_df['Proto'] != 'tcp']\n",
    "\n",
    "print(tcp_df['State'].unique())\n",
    "print(non_tcp_icmp_df['State'].unique())"
   ]
  },
  {
   "cell_type": "markdown",
   "id": "f29666f9",
   "metadata": {},
   "source": [
    "Notice how TCP flag makes up most of the State column (207 possible flags from 230 total unique values of State)?"
   ]
  },
  {
   "cell_type": "code",
   "execution_count": null,
   "id": "3d3d11f4",
   "metadata": {},
   "outputs": [],
   "source": [
    "# Warning to future self: DO NOT RUN THIS CELL!!! JUST READ THE NEW CSV FILE....\n",
    "# Tidying it up together\n",
    "\n",
    "icmp_states_list = icmp_df['State'].unique()\n",
    "non_icmp_states_list = non_tcp_icmp_df['State'].unique()\n",
    "\n",
    "# Create new columns\n",
    "binetflow_df['tcp_flags'] = pd.NA\n",
    "binetflow_df['icmp_states'] = pd.NA\n",
    "binetflow_df['non_icmp_states'] = pd.NA\n",
    "\n",
    "# Classify each state\n",
    "def classify_state(state_value):\n",
    "    if pd.isna(state_value):\n",
    "        return pd.NA, pd.NA, pd.NA\n",
    "\n",
    "    tcp_flags = []\n",
    "    icmp_states = []\n",
    "    non_icmp_states = []\n",
    "\n",
    "    if state_value in icmp_states_list:\n",
    "        icmp_states.append(state_value)\n",
    "    elif state_value in non_icmp_states_list:\n",
    "        non_icmp_states.append(state_value)\n",
    "    else:\n",
    "        tcp_flags.append(state_value)\n",
    "\n",
    "    return ' '.join(icmp_states), ' '.join(non_icmp_states), ' '.join(tcp_flags)\n",
    "\n",
    "# binetflow_df['State'].fillna('None', inplace=True)\n",
    "binetflow_df[['icmp_states', 'non_icmp_states', 'tcp_flags']] = binetflow_df['State'].apply(classify_state).apply(pd.Series)\n",
    "\n",
    "# Print the updated DataFrame\n",
    "print(binetflow_df[['State', 'tcp_flags', 'icmp_states', 'non_icmp_states']])"
   ]
  },
  {
   "cell_type": "code",
   "execution_count": 3,
   "id": "bbb3e906",
   "metadata": {},
   "outputs": [
    {
     "data": {
      "text/html": [
       "<div>\n",
       "<style scoped>\n",
       "    .dataframe tbody tr th:only-of-type {\n",
       "        vertical-align: middle;\n",
       "    }\n",
       "\n",
       "    .dataframe tbody tr th {\n",
       "        vertical-align: top;\n",
       "    }\n",
       "\n",
       "    .dataframe thead th {\n",
       "        text-align: right;\n",
       "    }\n",
       "</style>\n",
       "<table border=\"1\" class=\"dataframe\">\n",
       "  <thead>\n",
       "    <tr style=\"text-align: right;\">\n",
       "      <th></th>\n",
       "      <th>StartTime</th>\n",
       "      <th>Dur</th>\n",
       "      <th>Proto</th>\n",
       "      <th>SrcAddr</th>\n",
       "      <th>Sport</th>\n",
       "      <th>Dir</th>\n",
       "      <th>DstAddr</th>\n",
       "      <th>Dport</th>\n",
       "      <th>State</th>\n",
       "      <th>sTos</th>\n",
       "      <th>dTos</th>\n",
       "      <th>TotPkts</th>\n",
       "      <th>TotBytes</th>\n",
       "      <th>SrcBytes</th>\n",
       "      <th>Label</th>\n",
       "      <th>Dir_Translated</th>\n",
       "      <th>tcp_flags</th>\n",
       "      <th>icmp_states</th>\n",
       "      <th>non_icmp_states</th>\n",
       "    </tr>\n",
       "  </thead>\n",
       "  <tbody>\n",
       "    <tr>\n",
       "      <th>0</th>\n",
       "      <td>2011-08-10 09:46:59.607825</td>\n",
       "      <td>1.026539</td>\n",
       "      <td>tcp</td>\n",
       "      <td>94.44.127.113</td>\n",
       "      <td>1577</td>\n",
       "      <td>-&gt;</td>\n",
       "      <td>147.32.84.59</td>\n",
       "      <td>6881</td>\n",
       "      <td>S_RA</td>\n",
       "      <td>0.0</td>\n",
       "      <td>0.0</td>\n",
       "      <td>4</td>\n",
       "      <td>276</td>\n",
       "      <td>156</td>\n",
       "      <td>flow=Background-Established-cmpgw-CVUT</td>\n",
       "      <td>normal outbound</td>\n",
       "      <td>S_RA</td>\n",
       "      <td>NaN</td>\n",
       "      <td>NaN</td>\n",
       "    </tr>\n",
       "    <tr>\n",
       "      <th>1</th>\n",
       "      <td>2011-08-10 09:47:00.634364</td>\n",
       "      <td>1.009595</td>\n",
       "      <td>tcp</td>\n",
       "      <td>94.44.127.113</td>\n",
       "      <td>1577</td>\n",
       "      <td>-&gt;</td>\n",
       "      <td>147.32.84.59</td>\n",
       "      <td>6881</td>\n",
       "      <td>S_RA</td>\n",
       "      <td>0.0</td>\n",
       "      <td>0.0</td>\n",
       "      <td>4</td>\n",
       "      <td>276</td>\n",
       "      <td>156</td>\n",
       "      <td>flow=Background-Established-cmpgw-CVUT</td>\n",
       "      <td>normal outbound</td>\n",
       "      <td>S_RA</td>\n",
       "      <td>NaN</td>\n",
       "      <td>NaN</td>\n",
       "    </tr>\n",
       "    <tr>\n",
       "      <th>2</th>\n",
       "      <td>2011-08-10 09:47:48.185538</td>\n",
       "      <td>3.056586</td>\n",
       "      <td>tcp</td>\n",
       "      <td>147.32.86.89</td>\n",
       "      <td>4768</td>\n",
       "      <td>-&gt;</td>\n",
       "      <td>77.75.73.33</td>\n",
       "      <td>80</td>\n",
       "      <td>SR_A</td>\n",
       "      <td>0.0</td>\n",
       "      <td>0.0</td>\n",
       "      <td>3</td>\n",
       "      <td>182</td>\n",
       "      <td>122</td>\n",
       "      <td>flow=Background-TCP-Attempt</td>\n",
       "      <td>normal outbound</td>\n",
       "      <td>SR_A</td>\n",
       "      <td>NaN</td>\n",
       "      <td>NaN</td>\n",
       "    </tr>\n",
       "    <tr>\n",
       "      <th>3</th>\n",
       "      <td>2011-08-10 09:47:48.230897</td>\n",
       "      <td>3.111769</td>\n",
       "      <td>tcp</td>\n",
       "      <td>147.32.86.89</td>\n",
       "      <td>4788</td>\n",
       "      <td>-&gt;</td>\n",
       "      <td>77.75.73.33</td>\n",
       "      <td>80</td>\n",
       "      <td>SR_A</td>\n",
       "      <td>0.0</td>\n",
       "      <td>0.0</td>\n",
       "      <td>3</td>\n",
       "      <td>182</td>\n",
       "      <td>122</td>\n",
       "      <td>flow=Background-TCP-Attempt</td>\n",
       "      <td>normal outbound</td>\n",
       "      <td>SR_A</td>\n",
       "      <td>NaN</td>\n",
       "      <td>NaN</td>\n",
       "    </tr>\n",
       "    <tr>\n",
       "      <th>4</th>\n",
       "      <td>2011-08-10 09:47:48.963351</td>\n",
       "      <td>3.083411</td>\n",
       "      <td>tcp</td>\n",
       "      <td>147.32.86.89</td>\n",
       "      <td>4850</td>\n",
       "      <td>-&gt;</td>\n",
       "      <td>77.75.73.33</td>\n",
       "      <td>80</td>\n",
       "      <td>SR_A</td>\n",
       "      <td>0.0</td>\n",
       "      <td>0.0</td>\n",
       "      <td>3</td>\n",
       "      <td>182</td>\n",
       "      <td>122</td>\n",
       "      <td>flow=Background-TCP-Attempt</td>\n",
       "      <td>normal outbound</td>\n",
       "      <td>SR_A</td>\n",
       "      <td>NaN</td>\n",
       "      <td>NaN</td>\n",
       "    </tr>\n",
       "  </tbody>\n",
       "</table>\n",
       "</div>"
      ],
      "text/plain": [
       "                    StartTime       Dur Proto        SrcAddr Sport    Dir  \\\n",
       "0  2011-08-10 09:46:59.607825  1.026539   tcp  94.44.127.113  1577     ->   \n",
       "1  2011-08-10 09:47:00.634364  1.009595   tcp  94.44.127.113  1577     ->   \n",
       "2  2011-08-10 09:47:48.185538  3.056586   tcp   147.32.86.89  4768     ->   \n",
       "3  2011-08-10 09:47:48.230897  3.111769   tcp   147.32.86.89  4788     ->   \n",
       "4  2011-08-10 09:47:48.963351  3.083411   tcp   147.32.86.89  4850     ->   \n",
       "\n",
       "        DstAddr Dport State  sTos  dTos  TotPkts  TotBytes  SrcBytes  \\\n",
       "0  147.32.84.59  6881  S_RA   0.0   0.0        4       276       156   \n",
       "1  147.32.84.59  6881  S_RA   0.0   0.0        4       276       156   \n",
       "2   77.75.73.33    80  SR_A   0.0   0.0        3       182       122   \n",
       "3   77.75.73.33    80  SR_A   0.0   0.0        3       182       122   \n",
       "4   77.75.73.33    80  SR_A   0.0   0.0        3       182       122   \n",
       "\n",
       "                                    Label   Dir_Translated tcp_flags  \\\n",
       "0  flow=Background-Established-cmpgw-CVUT  normal outbound      S_RA   \n",
       "1  flow=Background-Established-cmpgw-CVUT  normal outbound      S_RA   \n",
       "2             flow=Background-TCP-Attempt  normal outbound      SR_A   \n",
       "3             flow=Background-TCP-Attempt  normal outbound      SR_A   \n",
       "4             flow=Background-TCP-Attempt  normal outbound      SR_A   \n",
       "\n",
       "  icmp_states non_icmp_states  \n",
       "0         NaN             NaN  \n",
       "1         NaN             NaN  \n",
       "2         NaN             NaN  \n",
       "3         NaN             NaN  \n",
       "4         NaN             NaN  "
      ]
     },
     "execution_count": 3,
     "metadata": {},
     "output_type": "execute_result"
    }
   ],
   "source": [
    "# Checkpoint 1\n",
    "# Saving the new binetflow_df because last operation takes so long to complete\n",
    "# binetflow_df.to_csv('binetflow.csv', index=False)\n",
    "\n",
    "# Loading the saved new binetflow_df\n",
    "binetflow_df = pd.read_csv('binetflow.csv')\n",
    "binetflow_df.head()"
   ]
  },
  {
   "cell_type": "code",
   "execution_count": 4,
   "id": "21debc81",
   "metadata": {},
   "outputs": [
    {
     "name": "stdout",
     "output_type": "stream",
     "text": [
      "['URP' 'URN' 'TXD' 'ECO' 'URH' 'RED' 'ECR' 'URFIL' 'URHPRO' 'URF' 'DNP'\n",
      " 'URO' 'SRC' nan 'DCE' 'URNPRO' 'UNK']\n",
      "['CON' 'INT' 'RSP' 'NNS' 'NRS' 'REQ' 'MRQ' nan]\n"
     ]
    }
   ],
   "source": [
    "# Sanity Check\n",
    "print(binetflow_df[binetflow_df['Proto'] == 'icmp']['icmp_states'].unique())\n",
    "print(binetflow_df[(binetflow_df['Proto'] != 'icmp') & (binetflow_df['Proto'] != 'tcp')]['non_icmp_states'].unique())\n",
    "# print(binetflow_df[binetflow_df['Proto'] == 'tcp']['tcp_flags'].unique()) commenting this one bcs it's long"
   ]
  },
  {
   "cell_type": "markdown",
   "id": "014213ad",
   "metadata": {},
   "source": [
    "#### Separating Source and Destination Flags"
   ]
  },
  {
   "cell_type": "code",
   "execution_count": 5,
   "id": "02bd33c6",
   "metadata": {},
   "outputs": [],
   "source": [
    "# Split 'tcp_state' column into source and destination\n",
    "binetflow_df[['flag_source', 'flag_destination']] = binetflow_df['tcp_flags'].str.split('_', n=1, expand=True)"
   ]
  },
  {
   "cell_type": "code",
   "execution_count": 6,
   "id": "5c6322a7",
   "metadata": {},
   "outputs": [
    {
     "data": {
      "text/html": [
       "<div>\n",
       "<style scoped>\n",
       "    .dataframe tbody tr th:only-of-type {\n",
       "        vertical-align: middle;\n",
       "    }\n",
       "\n",
       "    .dataframe tbody tr th {\n",
       "        vertical-align: top;\n",
       "    }\n",
       "\n",
       "    .dataframe thead th {\n",
       "        text-align: right;\n",
       "    }\n",
       "</style>\n",
       "<table border=\"1\" class=\"dataframe\">\n",
       "  <thead>\n",
       "    <tr style=\"text-align: right;\">\n",
       "      <th></th>\n",
       "      <th>tcp_flags</th>\n",
       "      <th>flag_source</th>\n",
       "      <th>flag_destination</th>\n",
       "    </tr>\n",
       "  </thead>\n",
       "  <tbody>\n",
       "    <tr>\n",
       "      <th>0</th>\n",
       "      <td>S_RA</td>\n",
       "      <td>S</td>\n",
       "      <td>RA</td>\n",
       "    </tr>\n",
       "    <tr>\n",
       "      <th>1</th>\n",
       "      <td>S_RA</td>\n",
       "      <td>S</td>\n",
       "      <td>RA</td>\n",
       "    </tr>\n",
       "    <tr>\n",
       "      <th>2</th>\n",
       "      <td>SR_A</td>\n",
       "      <td>SR</td>\n",
       "      <td>A</td>\n",
       "    </tr>\n",
       "    <tr>\n",
       "      <th>3</th>\n",
       "      <td>SR_A</td>\n",
       "      <td>SR</td>\n",
       "      <td>A</td>\n",
       "    </tr>\n",
       "    <tr>\n",
       "      <th>4</th>\n",
       "      <td>SR_A</td>\n",
       "      <td>SR</td>\n",
       "      <td>A</td>\n",
       "    </tr>\n",
       "    <tr>\n",
       "      <th>...</th>\n",
       "      <td>...</td>\n",
       "      <td>...</td>\n",
       "      <td>...</td>\n",
       "    </tr>\n",
       "    <tr>\n",
       "      <th>2824631</th>\n",
       "      <td>NaN</td>\n",
       "      <td>NaN</td>\n",
       "      <td>NaN</td>\n",
       "    </tr>\n",
       "    <tr>\n",
       "      <th>2824632</th>\n",
       "      <td>NaN</td>\n",
       "      <td>NaN</td>\n",
       "      <td>NaN</td>\n",
       "    </tr>\n",
       "    <tr>\n",
       "      <th>2824633</th>\n",
       "      <td>S_</td>\n",
       "      <td>S</td>\n",
       "      <td></td>\n",
       "    </tr>\n",
       "    <tr>\n",
       "      <th>2824634</th>\n",
       "      <td>NaN</td>\n",
       "      <td>NaN</td>\n",
       "      <td>NaN</td>\n",
       "    </tr>\n",
       "    <tr>\n",
       "      <th>2824635</th>\n",
       "      <td>NaN</td>\n",
       "      <td>NaN</td>\n",
       "      <td>NaN</td>\n",
       "    </tr>\n",
       "  </tbody>\n",
       "</table>\n",
       "<p>2824636 rows × 3 columns</p>\n",
       "</div>"
      ],
      "text/plain": [
       "        tcp_flags flag_source flag_destination\n",
       "0            S_RA           S               RA\n",
       "1            S_RA           S               RA\n",
       "2            SR_A          SR                A\n",
       "3            SR_A          SR                A\n",
       "4            SR_A          SR                A\n",
       "...           ...         ...              ...\n",
       "2824631       NaN         NaN              NaN\n",
       "2824632       NaN         NaN              NaN\n",
       "2824633        S_           S                 \n",
       "2824634       NaN         NaN              NaN\n",
       "2824635       NaN         NaN              NaN\n",
       "\n",
       "[2824636 rows x 3 columns]"
      ]
     },
     "execution_count": 6,
     "metadata": {},
     "output_type": "execute_result"
    }
   ],
   "source": [
    "binetflow_df[['tcp_flags', 'flag_source', 'flag_destination']]"
   ]
  },
  {
   "cell_type": "markdown",
   "id": "9ce30f68",
   "metadata": {},
   "source": [
    "#### Mapping States\n",
    "\n",
    "After all of that classifying, it's time to map the values to a more human readable format. I hope all those efforts won't go to waste :\"D (foreshadowing krn kyknya bakal gk ngaruh soalnya banyak null)"
   ]
  },
  {
   "cell_type": "code",
   "execution_count": 7,
   "id": "f47eaa6d",
   "metadata": {},
   "outputs": [],
   "source": [
    "# Define mappings for TCP flags\n",
    "tcp_flags = {\n",
    "    'F': 'Fin',\n",
    "    'S': 'Syn',\n",
    "    'R': 'Reset',\n",
    "    'P': 'Push',\n",
    "    'A': 'Ack',\n",
    "    'U': 'Urgent Pointer',\n",
    "    '7': 'Undefined 7th',\n",
    "    '8': 'Undefined 8th'\n",
    "}\n",
    "\n",
    "# Define mappings for connection states\n",
    "non_icmp_states = {\n",
    "    'REQ': 'Requested',\n",
    "    'INT': 'Initial',\n",
    "    'ACC': 'Accepted',\n",
    "    'EST': 'Established',\n",
    "    'CON': 'Connected',\n",
    "    'CLO': 'Closed',\n",
    "    'TIM': 'Timeout'\n",
    "}\n",
    "\n",
    "# Define mappings for connection states (ICMP)\n",
    "icmp_states = {\n",
    "    \"ECO\": \"Echo Request\",\n",
    "    \"ECR\": \"Echo Reply\",\n",
    "    \"SRC\": \"Source Quench\",\n",
    "    \"RED\": \"Redirect\",\n",
    "    \"RTA\": \"Router Advertisement\",\n",
    "    \"RTS\": \"Router Solicitation\",\n",
    "    \"TXD\": \"Time Exceeded\",\n",
    "    \"PAR\": \"Parameter Problem\",\n",
    "    \"TST\": \"Time Stamp Request\",\n",
    "    \"TSR\": \"Time Stamp Reply\",\n",
    "    \"IRQ\": \"Information Request\",\n",
    "    \"IRR\": \"Information Reply\",\n",
    "    \"MAS\": \"Mask Request\",\n",
    "    \"MSR\": \"Mask Reply\",\n",
    "    \"URN\": \"Unreachable network\",\n",
    "    \"URH\": \"Unreachable host\",\n",
    "    \"URP\": \"Unreachable port\",\n",
    "    \"URF\": \"Unreachable need fragmentation\",\n",
    "    \"URS\": \"Unreachable source failed\",\n",
    "    \"URNU\": \"Unreachable dst network unknown\",\n",
    "    \"URHU\": \"Unreachable dst host unknown\",\n",
    "    \"URISO\": \"Unreachable source host isolated\",\n",
    "    \"URNPRO\": \"Unreachable network administrative prohibited\",\n",
    "    \"URHPRO\": \"Unreachable host administrative prohibited\",\n",
    "    \"URNTOS\": \"Unreachable network TOS prohibited\",\n",
    "    \"URHTOS\": \"Unreachable host TOS prohibited\",\n",
    "    \"URFIL\": \"Unreachable administrative filter\",\n",
    "    \"URPRE\": \"Unreachable precedence violation\",\n",
    "    \"URCUT\": \"Unreachable precedence cutoff\"\n",
    "}"
   ]
  },
  {
   "cell_type": "code",
   "execution_count": 8,
   "id": "b429d69b",
   "metadata": {},
   "outputs": [
    {
     "name": "stdout",
     "output_type": "stream",
     "text": [
      "First instance of each unique value in 'State':\n",
      "        parsed_flags_source parsed_flags_dest flag_source flag_destination\n",
      "0                       Syn         Reset Ack           S               RA\n",
      "1                       Syn         Reset Ack           S               RA\n",
      "2                 Syn Reset               Ack          SR                A\n",
      "3                 Syn Reset               Ack          SR                A\n",
      "4                 Syn Reset               Ack          SR                A\n",
      "...                     ...               ...         ...              ...\n",
      "2824594        Syn Push Ack      Syn Push Ack         SPA              SPA\n",
      "2824603        Syn Push Ack      Syn Push Ack         SPA              SPA\n",
      "2824605        Syn Push Ack           Syn Ack         SPA               SA\n",
      "2824613        Syn Push Ack           Syn Ack         SPA               SA\n",
      "2824633                 Syn                             S                 \n",
      "\n",
      "[507557 rows x 4 columns]\n",
      "        non_icmp_states parsed_state\n",
      "101                 CON    Connected\n",
      "102                 CON    Connected\n",
      "105                 CON    Connected\n",
      "107                 CON    Connected\n",
      "109                 CON    Connected\n",
      "...                 ...          ...\n",
      "2824630             CON    Connected\n",
      "2824631             CON    Connected\n",
      "2824632             CON    Connected\n",
      "2824634             CON    Connected\n",
      "2824635             CON    Connected\n",
      "\n",
      "[2277385 rows x 2 columns]\n",
      "        icmp_states    parsed_icmp_state\n",
      "334             URP     Unreachable port\n",
      "393             URN  Unreachable network\n",
      "589             TXD        Time Exceeded\n",
      "590             TXD        Time Exceeded\n",
      "614             ECO         Echo Request\n",
      "...             ...                  ...\n",
      "2824381         URP     Unreachable port\n",
      "2824388         URP     Unreachable port\n",
      "2824389         ECR           Echo Reply\n",
      "2824460         URP     Unreachable port\n",
      "2824531         RED             Redirect\n",
      "\n",
      "[39694 rows x 2 columns]\n"
     ]
    }
   ],
   "source": [
    "# TCP Flags Parser\n",
    "def tcp_parser(state_value):\n",
    "    if pd.isna(state_value) or not isinstance(state_value, str):\n",
    "        return ''  # Return empty string or a default value\n",
    "    \n",
    "    flags = []\n",
    "    for char in state_value:\n",
    "        if char in tcp_flags:\n",
    "            flags.append(tcp_flags[char])\n",
    "    return ' '.join(flags).strip()\n",
    "\n",
    "# ICMP States Parser\n",
    "def icmp_parser(state_value):\n",
    "    if pd.isna(state_value) or not isinstance(state_value, str):\n",
    "        return ''  # Return empty string or a default value\n",
    "    \n",
    "    state_value = state_value.strip()  # Clean up whitespace\n",
    "    for length in range(6, 0, -1):  # Look for ICMP state up to 6 characters long\n",
    "        for i in range(len(state_value) - length + 1):\n",
    "            sub_state = state_value[i:i + length]\n",
    "            if sub_state in icmp_states:\n",
    "                return icmp_states[sub_state]\n",
    "    return ''\n",
    "\n",
    "# Non-ICMP States Parser\n",
    "def non_icmp_parser(state_value):\n",
    "    if pd.isna(state_value) or not isinstance(state_value, str):\n",
    "        return ''  # Return empty string or a default value\n",
    "    \n",
    "    state_value = state_value.strip()  # Clean up whitespace\n",
    "    for length in range(6, 0, -1):  # Look for non-ICMP state up to 6 characters long\n",
    "        for i in range(len(state_value) - length + 1):\n",
    "            sub_state = state_value[i:i + length]\n",
    "            if sub_state in non_icmp_states:\n",
    "                return non_icmp_states[sub_state]\n",
    "    return ''\n",
    "\n",
    "# Apply parser to columns\n",
    "binetflow_df['parsed_flags_source'] = binetflow_df['flag_source'].apply(tcp_parser)\n",
    "binetflow_df['parsed_flags_dest'] = binetflow_df['flag_destination'].apply(tcp_parser)\n",
    "binetflow_df['parsed_icmp_state'] = binetflow_df['icmp_states'].apply(icmp_parser)\n",
    "binetflow_df['parsed_state'] = binetflow_df['non_icmp_states'].apply(non_icmp_parser)\n",
    "\n",
    "# Sanity check\n",
    "print(\"First instance of each unique value in 'State':\")\n",
    "print(binetflow_df[binetflow_df['Proto'] == 'tcp'][['parsed_flags_source', 'parsed_flags_dest', 'flag_source', 'flag_destination']])\n",
    "print(binetflow_df[(binetflow_df['Proto'] != 'icmp') & (binetflow_df['Proto'] != 'tcp')][['non_icmp_states', 'parsed_state']])\n",
    "print(binetflow_df[binetflow_df['Proto'] == 'icmp'][['icmp_states', 'parsed_icmp_state']])"
   ]
  },
  {
   "cell_type": "markdown",
   "id": "8cf2b1dc",
   "metadata": {},
   "source": [
    "### Label\n",
    "\n",
    "The label is quite confusing. Almost every instance has the string 'Background' but it has more information about whether the connection originated from or destined to a legitimate host or botnet. See: https://mcfp.felk.cvut.cz/publicDatasets/CTU-Malware-Capture-Botnet-42/ for more information about how the dataset is originally labelled."
   ]
  },
  {
   "cell_type": "code",
   "execution_count": 10,
   "id": "e2e4869b",
   "metadata": {},
   "outputs": [],
   "source": [
    "# Function to map the labels based on the conditions\n",
    "def classify_label(label):\n",
    "    if 'LEGITIMATE' in label:\n",
    "        return 'LEGITIMATE'\n",
    "    elif 'Botnet' in label:\n",
    "        return 'Botnet'\n",
    "    else:\n",
    "        return 'Background'\n",
    "\n",
    "# Apply the function to the Label column to create a new actual_label column\n",
    "binetflow_df['actual_label'] = binetflow_df['Label'].apply(classify_label)"
   ]
  },
  {
   "cell_type": "code",
   "execution_count": 16,
   "id": "33b09b5a",
   "metadata": {},
   "outputs": [
    {
     "name": "stdout",
     "output_type": "stream",
     "text": [
      "actual_label\n",
      "Background    2783675\n",
      "Botnet          40961\n",
      "Name: count, dtype: int64\n",
      "0    flow=Background-Established-cmpgw-CVUT\n",
      "1    flow=Background-Established-cmpgw-CVUT\n",
      "2               flow=Background-TCP-Attempt\n",
      "3               flow=Background-TCP-Attempt\n",
      "4               flow=Background-TCP-Attempt\n",
      "Name: Label, dtype: object\n",
      "675613                         flow=From-Botnet-V42-UDP-DNS\n",
      "675948                         flow=From-Botnet-V42-UDP-DNS\n",
      "675953    flow=From-Botnet-V42-TCP-HTTP-Google-Net-Estab...\n",
      "690001                         flow=From-Botnet-V42-UDP-DNS\n",
      "690036                 flow=From-Botnet-V42-TCP-Established\n",
      "Name: Label, dtype: object\n"
     ]
    }
   ],
   "source": [
    "# Check if the new column was created successfully\n",
    "print(binetflow_df['actual_label'].value_counts())\n",
    "print(binetflow_df[binetflow_df['actual_label'] == 'Background']['Label'].head())\n",
    "print(binetflow_df[binetflow_df['actual_label'] == 'Botnet']['Label'].head())"
   ]
  },
  {
   "cell_type": "markdown",
   "id": "d0ec7715",
   "metadata": {},
   "source": [
    "There's no 'Legitimate' label created. Seems like the dataset creator is a little bit inconsistent with how they label their dataset.... "
   ]
  },
  {
   "cell_type": "code",
   "execution_count": 21,
   "id": "0a27a100",
   "metadata": {},
   "outputs": [
    {
     "data": {
      "text/plain": [
       "StartTime              datetime64[ns]\n",
       "Dur                           float64\n",
       "Proto                        category\n",
       "SrcAddr                        object\n",
       "Sport                          object\n",
       "Dir                          category\n",
       "DstAddr                        object\n",
       "Dport                          object\n",
       "State                          object\n",
       "sTos                         category\n",
       "dTos                         category\n",
       "TotPkts                         int64\n",
       "TotBytes                        int64\n",
       "SrcBytes                        int64\n",
       "Label                          object\n",
       "Dir_Translated               category\n",
       "tcp_flags                      object\n",
       "icmp_states                    object\n",
       "non_icmp_states                object\n",
       "flag_source                    object\n",
       "flag_destination               object\n",
       "parsed_flags_source            object\n",
       "parsed_flags_dest              object\n",
       "parsed_icmp_state              object\n",
       "parsed_state                   object\n",
       "actual_label                 category\n",
       "dtype: object"
      ]
     },
     "execution_count": 21,
     "metadata": {},
     "output_type": "execute_result"
    }
   ],
   "source": [
    "# Make the new actual_label a category column\n",
    "\n",
    "binetflow_df['actual_label'] = binetflow_df['actual_label'].astype('category')\n",
    "binetflow_df.dtypes"
   ]
  },
  {
   "cell_type": "markdown",
   "id": "da94e666",
   "metadata": {},
   "source": [
    "## Inconsistent Data\n",
    "\n",
    "Time to explore null values, outliers, duplicates, and many weird inconsistencies!"
   ]
  },
  {
   "cell_type": "code",
   "execution_count": 25,
   "id": "b5fe087a",
   "metadata": {},
   "outputs": [
    {
     "data": {
      "text/plain": [
       "(2824636, 26)"
      ]
     },
     "execution_count": 25,
     "metadata": {},
     "output_type": "execute_result"
    }
   ],
   "source": [
    "binetflow_df.shape"
   ]
  },
  {
   "cell_type": "markdown",
   "id": "e06f44e4",
   "metadata": {},
   "source": [
    "We come up with a lot of columns idea from the last section. To simplify the dataset and getting rid of redundant features, I'm going to subset the dataframe and save it as a separate .csv for a second checkpoint. "
   ]
  },
  {
   "cell_type": "code",
   "execution_count": 27,
   "id": "b380fd2a",
   "metadata": {},
   "outputs": [
    {
     "data": {
      "text/html": [
       "<div>\n",
       "<style scoped>\n",
       "    .dataframe tbody tr th:only-of-type {\n",
       "        vertical-align: middle;\n",
       "    }\n",
       "\n",
       "    .dataframe tbody tr th {\n",
       "        vertical-align: top;\n",
       "    }\n",
       "\n",
       "    .dataframe thead th {\n",
       "        text-align: right;\n",
       "    }\n",
       "</style>\n",
       "<table border=\"1\" class=\"dataframe\">\n",
       "  <thead>\n",
       "    <tr style=\"text-align: right;\">\n",
       "      <th></th>\n",
       "      <th>StartTime</th>\n",
       "      <th>Dur</th>\n",
       "      <th>Proto</th>\n",
       "      <th>SrcAddr</th>\n",
       "      <th>Sport</th>\n",
       "      <th>DstAddr</th>\n",
       "      <th>Dport</th>\n",
       "      <th>sTos</th>\n",
       "      <th>dTos</th>\n",
       "      <th>TotPkts</th>\n",
       "      <th>TotBytes</th>\n",
       "      <th>SrcBytes</th>\n",
       "      <th>Dir_Translated</th>\n",
       "      <th>parsed_flags_source</th>\n",
       "      <th>parsed_flags_dest</th>\n",
       "      <th>parsed_icmp_state</th>\n",
       "      <th>parsed_state</th>\n",
       "      <th>actual_label</th>\n",
       "    </tr>\n",
       "  </thead>\n",
       "  <tbody>\n",
       "    <tr>\n",
       "      <th>0</th>\n",
       "      <td>2011-08-10 09:46:59.607825</td>\n",
       "      <td>1.026539</td>\n",
       "      <td>tcp</td>\n",
       "      <td>94.44.127.113</td>\n",
       "      <td>1577</td>\n",
       "      <td>147.32.84.59</td>\n",
       "      <td>6881</td>\n",
       "      <td>0.0</td>\n",
       "      <td>0.0</td>\n",
       "      <td>4</td>\n",
       "      <td>276</td>\n",
       "      <td>156</td>\n",
       "      <td>normal outbound</td>\n",
       "      <td>Syn</td>\n",
       "      <td>Reset Ack</td>\n",
       "      <td></td>\n",
       "      <td></td>\n",
       "      <td>Background</td>\n",
       "    </tr>\n",
       "    <tr>\n",
       "      <th>1</th>\n",
       "      <td>2011-08-10 09:47:00.634364</td>\n",
       "      <td>1.009595</td>\n",
       "      <td>tcp</td>\n",
       "      <td>94.44.127.113</td>\n",
       "      <td>1577</td>\n",
       "      <td>147.32.84.59</td>\n",
       "      <td>6881</td>\n",
       "      <td>0.0</td>\n",
       "      <td>0.0</td>\n",
       "      <td>4</td>\n",
       "      <td>276</td>\n",
       "      <td>156</td>\n",
       "      <td>normal outbound</td>\n",
       "      <td>Syn</td>\n",
       "      <td>Reset Ack</td>\n",
       "      <td></td>\n",
       "      <td></td>\n",
       "      <td>Background</td>\n",
       "    </tr>\n",
       "    <tr>\n",
       "      <th>2</th>\n",
       "      <td>2011-08-10 09:47:48.185538</td>\n",
       "      <td>3.056586</td>\n",
       "      <td>tcp</td>\n",
       "      <td>147.32.86.89</td>\n",
       "      <td>4768</td>\n",
       "      <td>77.75.73.33</td>\n",
       "      <td>80</td>\n",
       "      <td>0.0</td>\n",
       "      <td>0.0</td>\n",
       "      <td>3</td>\n",
       "      <td>182</td>\n",
       "      <td>122</td>\n",
       "      <td>normal outbound</td>\n",
       "      <td>Syn Reset</td>\n",
       "      <td>Ack</td>\n",
       "      <td></td>\n",
       "      <td></td>\n",
       "      <td>Background</td>\n",
       "    </tr>\n",
       "    <tr>\n",
       "      <th>3</th>\n",
       "      <td>2011-08-10 09:47:48.230897</td>\n",
       "      <td>3.111769</td>\n",
       "      <td>tcp</td>\n",
       "      <td>147.32.86.89</td>\n",
       "      <td>4788</td>\n",
       "      <td>77.75.73.33</td>\n",
       "      <td>80</td>\n",
       "      <td>0.0</td>\n",
       "      <td>0.0</td>\n",
       "      <td>3</td>\n",
       "      <td>182</td>\n",
       "      <td>122</td>\n",
       "      <td>normal outbound</td>\n",
       "      <td>Syn Reset</td>\n",
       "      <td>Ack</td>\n",
       "      <td></td>\n",
       "      <td></td>\n",
       "      <td>Background</td>\n",
       "    </tr>\n",
       "    <tr>\n",
       "      <th>4</th>\n",
       "      <td>2011-08-10 09:47:48.963351</td>\n",
       "      <td>3.083411</td>\n",
       "      <td>tcp</td>\n",
       "      <td>147.32.86.89</td>\n",
       "      <td>4850</td>\n",
       "      <td>77.75.73.33</td>\n",
       "      <td>80</td>\n",
       "      <td>0.0</td>\n",
       "      <td>0.0</td>\n",
       "      <td>3</td>\n",
       "      <td>182</td>\n",
       "      <td>122</td>\n",
       "      <td>normal outbound</td>\n",
       "      <td>Syn Reset</td>\n",
       "      <td>Ack</td>\n",
       "      <td></td>\n",
       "      <td></td>\n",
       "      <td>Background</td>\n",
       "    </tr>\n",
       "  </tbody>\n",
       "</table>\n",
       "</div>"
      ],
      "text/plain": [
       "                   StartTime       Dur Proto        SrcAddr Sport  \\\n",
       "0 2011-08-10 09:46:59.607825  1.026539   tcp  94.44.127.113  1577   \n",
       "1 2011-08-10 09:47:00.634364  1.009595   tcp  94.44.127.113  1577   \n",
       "2 2011-08-10 09:47:48.185538  3.056586   tcp   147.32.86.89  4768   \n",
       "3 2011-08-10 09:47:48.230897  3.111769   tcp   147.32.86.89  4788   \n",
       "4 2011-08-10 09:47:48.963351  3.083411   tcp   147.32.86.89  4850   \n",
       "\n",
       "        DstAddr Dport sTos dTos  TotPkts  TotBytes  SrcBytes   Dir_Translated  \\\n",
       "0  147.32.84.59  6881  0.0  0.0        4       276       156  normal outbound   \n",
       "1  147.32.84.59  6881  0.0  0.0        4       276       156  normal outbound   \n",
       "2   77.75.73.33    80  0.0  0.0        3       182       122  normal outbound   \n",
       "3   77.75.73.33    80  0.0  0.0        3       182       122  normal outbound   \n",
       "4   77.75.73.33    80  0.0  0.0        3       182       122  normal outbound   \n",
       "\n",
       "  parsed_flags_source parsed_flags_dest parsed_icmp_state parsed_state  \\\n",
       "0                 Syn         Reset Ack                                  \n",
       "1                 Syn         Reset Ack                                  \n",
       "2           Syn Reset               Ack                                  \n",
       "3           Syn Reset               Ack                                  \n",
       "4           Syn Reset               Ack                                  \n",
       "\n",
       "  actual_label  \n",
       "0   Background  \n",
       "1   Background  \n",
       "2   Background  \n",
       "3   Background  \n",
       "4   Background  "
      ]
     },
     "execution_count": 27,
     "metadata": {},
     "output_type": "execute_result"
    }
   ],
   "source": [
    "columns_redundant = ['Dir', 'State', 'Label', 'tcp_flags', 'icmp_states', 'non_icmp_states', 'flag_source', 'flag_destination']\n",
    "binetflow_clean_df = binetflow_df.drop(columns=columns_redundant)\n",
    "binetflow_clean_df.head()"
   ]
  },
  {
   "cell_type": "code",
   "execution_count": 2,
   "id": "303df765",
   "metadata": {},
   "outputs": [],
   "source": [
    "# Checkpoint 2\n",
    "# Saving dataframe to simplify process\n",
    "# binetflow_clean_df.to_csv('cleaner_binetflow.csv', index=False)\n",
    "\n",
    "binetflow_clean_df = pd.read_csv('cleaner_binetflow.csv')"
   ]
  },
  {
   "cell_type": "markdown",
   "id": "17d0790e",
   "metadata": {},
   "source": [
    "### Null Values\n",
    "\n",
    "Visualizing null values in each of the columns to investigate if data is missing at random or not. Impute missing values based on insights gathered from earlier."
   ]
  },
  {
   "cell_type": "code",
   "execution_count": 33,
   "id": "ff4955b8",
   "metadata": {},
   "outputs": [
    {
     "data": {
      "text/plain": [
       "<Figure size 1200x800 with 0 Axes>"
      ]
     },
     "metadata": {},
     "output_type": "display_data"
    },
    {
     "data": {
      "image/png": "[encoded data removed]",
      "text/plain": [
       "<Figure size 2500x1000 with 2 Axes>"
      ]
     },
     "metadata": {},
     "output_type": "display_data"
    }
   ],
   "source": [
    "import missingno as msno\n",
    "\n",
    "# Visualize missing values with a matrix\n",
    "def visualize_missing_matrix(df):\n",
    "    plt.figure(figsize=(12, 8))\n",
    "    msno.matrix(df)\n",
    "    plt.show()\n",
    "\n",
    "# Call the function on your DataFrame\n",
    "visualize_missing_matrix(binetflow_clean_df)"
   ]
  },
  {
   "cell_type": "markdown",
   "id": "67149e8d",
   "metadata": {},
   "source": [
    "This visualization helps us to see null values more easily. Some columns don't really have many missing columns, some have moderate amount of it, but some are practically sparse, especially the state columns. \n",
    "\n",
    "I am particularly interested in the dTos column. How can it has more missing values than its counterpart (source Tos) when they're telling the same story? (Type of Service in IPv4 header). I will be exploring them in the next sections before deciding what I should do.\n",
    "\n",
    "Recall that on the last section we divide states into TCP flags, ICMP state, and non-ICMP non-TCP states. Since ICMP communication only makes a small portion of the whole network, it's no wonder the ICMP state column mainly consists of null values. Therefore, this is a case of missing data not at random. I think it's wise to combine the states between non-ICMP and ICMP states, but leave the TCP flags columns alone. We can then impute the missing values accordingly. "
   ]
  },
  {
   "cell_type": "markdown",
   "id": "9d1af406",
   "metadata": {},
   "source": [
    "### State"
   ]
  },
  {
   "cell_type": "code",
   "execution_count": 3,
   "id": "9d8b8652",
   "metadata": {},
   "outputs": [
    {
     "name": "stdout",
     "output_type": "stream",
     "text": [
      "0                NaN\n",
      "1                NaN\n",
      "2                NaN\n",
      "3                NaN\n",
      "4                NaN\n",
      "             ...    \n",
      "2824631    Connected\n",
      "2824632    Connected\n",
      "2824633          NaN\n",
      "2824634    Connected\n",
      "2824635    Connected\n",
      "Name: combined_state, Length: 2824636, dtype: object\n"
     ]
    }
   ],
   "source": [
    "# Combine 'icmp_state' and 'state' columns\n",
    "binetflow_clean_df['combined_state'] = binetflow_clean_df['parsed_icmp_state'].fillna(binetflow_clean_df['parsed_state'])\n",
    "\n",
    "# Sanity Check\n",
    "print(binetflow_clean_df['combined_state'])\n",
    "\n",
    "# Drop redundant column\n",
    "binetflow_clean_df.drop(columns=['parsed_icmp_state', 'parsed_state'], inplace=True)"
   ]
  },
  {
   "cell_type": "code",
   "execution_count": 4,
   "id": "dec8e76d",
   "metadata": {},
   "outputs": [
    {
     "name": "stdout",
     "output_type": "stream",
     "text": [
      "<class 'pandas.core.frame.DataFrame'>\n"
     ]
    }
   ],
   "source": [
    "print(type(binetflow_clean_df))"
   ]
  },
  {
   "cell_type": "code",
   "execution_count": 17,
   "id": "6c7343e3",
   "metadata": {},
   "outputs": [
    {
     "name": "stdout",
     "output_type": "stream",
     "text": [
      "Proto\n",
      "tcp          0.179689\n",
      "arp          0.000029\n",
      "ipv6-icmp    0.000021\n",
      "udp          0.000012\n",
      "icmp         0.000005\n",
      "Name: count, dtype: float64\n",
      "Proto\n",
      "udp          8.036728e-01\n",
      "icmp         1.405278e-02\n",
      "tcp          1.090406e-03\n",
      "rtp          9.098517e-04\n",
      "rtcp         8.280713e-04\n",
      "igmp         6.383123e-04\n",
      "arp          1.688713e-04\n",
      "ipv6-icmp    2.053362e-05\n",
      "ipx/spx      4.602363e-06\n",
      "ipv6         3.540279e-06\n",
      "udt          3.540279e-06\n",
      "esp          3.540279e-06\n",
      "pim          2.478195e-06\n",
      "rarp         1.416112e-06\n",
      "unas         3.540279e-07\n",
      "Name: count, dtype: float64\n",
      "Proto\n",
      "udp          8.036728e-01\n",
      "tcp          2.732104e-02\n",
      "icmp         1.405278e-02\n",
      "rtp          9.098517e-04\n",
      "rtcp         8.280713e-04\n",
      "igmp         6.383123e-04\n",
      "arp          1.688713e-04\n",
      "ipv6-icmp    2.053362e-05\n",
      "ipx/spx      4.602363e-06\n",
      "ipv6         3.540279e-06\n",
      "udt          3.540279e-06\n",
      "esp          3.540279e-06\n",
      "pim          2.478195e-06\n",
      "rarp         1.416112e-06\n",
      "unas         3.540279e-07\n",
      "Name: count, dtype: float64\n"
     ]
    }
   ],
   "source": [
    "# Check for missing states by protocol\n",
    "missing_state_proto = binetflow_clean_df[binetflow_clean_df['combined_state'].isna()]['Proto'].value_counts()/len(binetflow_clean_df['combined_state'])\n",
    "missing_sflags_proto = binetflow_clean_df[binetflow_clean_df['parsed_flags_source'].isna()]['Proto'].value_counts()/len(binetflow_clean_df['parsed_flags_source'])\n",
    "missing_dflags_proto = binetflow_clean_df[binetflow_clean_df['parsed_flags_dest'].isna()]['Proto'].value_counts()/len(binetflow_clean_df['parsed_flags_dest'])\n",
    "\n",
    "# Print the result\n",
    "print(missing_state_proto)\n",
    "print(missing_sflags_proto)\n",
    "print(missing_dflags_proto)"
   ]
  },
  {
   "cell_type": "markdown",
   "id": "2e694ec1",
   "metadata": {},
   "source": [
    "It seems like in both cases, there are still legitimate missing values. In the combined_state columns, there are still instances of communication with icmp and icmpv6 protocols that don't have a state value. In both source and destination flags, there are still instances of communcation with tcp protocols that don't have a state value, but the amount are different between source and destination."
   ]
  },
  {
   "cell_type": "code",
   "execution_count": 4,
   "id": "76f816ec",
   "metadata": {},
   "outputs": [],
   "source": [
    "# Imputing missing values with 'Invalid' for missing values not at random\n",
    "\n",
    "# Imputing states\n",
    "protocols = ['tcp', 'arp'] # tcp has its own flags and arp doesn't have states\n",
    "binetflow_clean_df['combined_state'] = binetflow_clean_df.apply(\n",
    "    lambda row: 'Invalid' if pd.isna(row['combined_state']) and row['Proto'] in protocols else row['combined_state'], axis=1\n",
    ")\n",
    "\n",
    "# Imputing flags\n",
    "binetflow_clean_df['parsed_flags_source'] = binetflow_clean_df.apply(\n",
    "    lambda row: 'Invalid' if pd.isna(row['parsed_flags_source']) and row['Proto'] != 'tcp' else row['parsed_flags_source'], axis=1\n",
    ")\n",
    "\n",
    "binetflow_clean_df['parsed_flags_dest'] = binetflow_clean_df.apply(\n",
    "    lambda row: 'Invalid' if pd.isna(row['parsed_flags_dest']) and row['Proto'] != 'tcp' else row['parsed_flags_dest'], axis=1\n",
    ")"
   ]
  },
  {
   "cell_type": "code",
   "execution_count": 5,
   "id": "c4fc44dc",
   "metadata": {},
   "outputs": [
    {
     "name": "stdout",
     "output_type": "stream",
     "text": [
      "Proto\n",
      "ipv6-icmp    0.000021\n",
      "udp          0.000012\n",
      "icmp         0.000005\n",
      "Name: count, dtype: float64\n",
      "Proto\n",
      "tcp    0.00109\n",
      "Name: count, dtype: float64\n",
      "Proto\n",
      "tcp    0.027321\n",
      "Name: count, dtype: float64\n"
     ]
    }
   ],
   "source": [
    "# Check for missing states by protocol after imputation\n",
    "missing_state_proto = binetflow_clean_df[binetflow_clean_df['combined_state'].isna()]['Proto'].value_counts()/len(binetflow_clean_df['combined_state'])\n",
    "missing_sflags_proto = binetflow_clean_df[binetflow_clean_df['parsed_flags_source'].isna()]['Proto'].value_counts()/len(binetflow_clean_df['parsed_flags_source'])\n",
    "missing_dflags_proto = binetflow_clean_df[binetflow_clean_df['parsed_flags_dest'].isna()]['Proto'].value_counts()/len(binetflow_clean_df['parsed_flags_dest'])\n",
    "\n",
    "# Print the result\n",
    "print(missing_state_proto)\n",
    "print(missing_sflags_proto)\n",
    "print(missing_dflags_proto)"
   ]
  },
  {
   "cell_type": "markdown",
   "id": "a34b96d2",
   "metadata": {},
   "source": [
    "There are more missing values in destination flags than in source flags. But it's okay, there are legit reasons why a communication can only have a source flag but not a destination flag. It can be caused by:\n",
    "- Unidirectional communcation (only outbound traffic)\n",
    "- Packet loss\n",
    "- Initiation of the three-way handshake (more info: https://developer.mozilla.org/en-US/docs/Glossary/TCP_handshake)"
   ]
  },
  {
   "cell_type": "code",
   "execution_count": 30,
   "id": "e5539aa3",
   "metadata": {},
   "outputs": [
    {
     "name": "stdout",
     "output_type": "stream",
     "text": [
      "['Fin Syn Push Ack' 'Fin Syn Ack' 'Syn Reset Ack' 'Syn Push Ack'\n",
      " 'Syn Reset Push Ack' 'Syn Ack' 'Push Ack' 'Reset' 'Fin Push Ack'\n",
      " 'Fin Reset Push Ack' 'Fin Ack' 'Fin Syn Reset Push Ack' 'Reset Ack']\n",
      "['Reset Ack' 'Ack' 'Fin Ack' 'Syn' 'Fin Push Ack' 'Push Ack'\n",
      " 'Fin Reset Ack' 'Syn Ack' 'Reset' 'Syn Reset' 'Fin Reset Push Ack'\n",
      " 'Syn Reset Ack' 'Fin Syn' 'Reset Push Ack' 'Fin Syn Ack' 'Syn Push Ack']\n"
     ]
    }
   ],
   "source": [
    "# Check for missing flags in source or destination for TCP traffic\n",
    "missing_flags_source = binetflow_clean_df[(binetflow_clean_df['Proto'] == 'tcp') & binetflow_clean_df['parsed_flags_source'].isna()]\n",
    "missing_flags_dest = binetflow_clean_df[(binetflow_clean_df['Proto'] == 'tcp') & binetflow_clean_df['parsed_flags_dest'].isna()]\n",
    "print(missing_flags_source['parsed_flags_dest'].unique())\n",
    "print(missing_flags_dest['parsed_flags_source'].unique())"
   ]
  },
  {
   "cell_type": "markdown",
   "id": "99df283e",
   "metadata": {},
   "source": [
    "I'm sorry if this project becomes a crash course in Computer Networks but basically this confirms that missing flags in one direction (source or destination) comes from packet loss (Reset), communcation termination (Fin), and a three-way handshake initiation (Syn Ack). Now to impute these values:"
   ]
  },
  {
   "cell_type": "code",
   "execution_count": 11,
   "id": "adeb8a5c",
   "metadata": {},
   "outputs": [],
   "source": [
    "import pandas as pd\n",
    "\n",
    "def impute_flags(row):\n",
    "    # Create a copy of the row to avoid modifying the original data\n",
    "    imputed_row = row.copy()\n",
    "    \n",
    "    # Define the rules for imputation\n",
    "    if pd.isna(row['parsed_flags_source']) and pd.notna(row['parsed_flags_dest']):\n",
    "        if 'Syn' in row['parsed_flags_dest']:\n",
    "            imputed_row['parsed_flags_source'] = 'three-way handshake'\n",
    "        elif 'Fin' in row['parsed_flags_dest']:\n",
    "            imputed_row['parsed_flags_source'] = 'finished'\n",
    "        elif 'Reset' in row['parsed_flags_dest']:\n",
    "            imputed_row['parsed_flags_source'] = 'terminated'\n",
    "        elif 'Push' in row['parsed_flags_dest']:\n",
    "            imputed_row['parsed_flags_source'] = 'Ack'\n",
    "    \n",
    "    if pd.isna(row['parsed_flags_dest']) and pd.notna(row['parsed_flags_source']):\n",
    "        if 'Syn' in row['parsed_flags_source']:\n",
    "            imputed_row['parsed_flags_dest'] = 'three-way handshake'\n",
    "        elif 'Fin' in row['parsed_flags_source']:\n",
    "            imputed_row['parsed_flags_dest'] = 'finished'\n",
    "        elif 'Reset' in row['parsed_flags_source']:\n",
    "            imputed_row['parsed_flags_dest'] = 'terminated'\n",
    "        elif 'Push' in row['parsed_flags_source']:\n",
    "            imputed_row['parsed_flags_dest'] = 'Ack'\n",
    "    \n",
    "    return imputed_row\n",
    "\n",
    "# Apply the function to the DataFrame\n",
    "def apply_imputation(df):\n",
    "    df = df.apply(lambda row: impute_flags(row), axis=1)\n",
    "    return df\n",
    "\n",
    "# Assuming you have columns 'source_flags' and 'destination_flags'\n",
    "binetflow_clean_df = apply_imputation(binetflow_clean_df)"
   ]
  },
  {
   "cell_type": "markdown",
   "id": "5034a827",
   "metadata": {},
   "source": [
    "### Type of Service"
   ]
  },
  {
   "cell_type": "code",
   "execution_count": 20,
   "id": "d160d0f8",
   "metadata": {},
   "outputs": [
    {
     "name": "stdout",
     "output_type": "stream",
     "text": [
      "Dir_Translated\n",
      "normal outbound     0.067494\n",
      "special case        0.000170\n",
      "unknown outbound    0.001438\n",
      "dtype: float64\n",
      "Dir_Translated\n",
      "normal inbound     0.002489\n",
      "normal outbound    0.001090\n",
      "special case       0.000170\n",
      "dtype: float64\n"
     ]
    }
   ],
   "source": [
    "# Check for missing dTos values based on direction\n",
    "missing_dtos_dir = binetflow_clean_df[binetflow_clean_df['dTos'].isna()].groupby('Dir_Translated').size()/len(binetflow_clean_df['dTos'])\n",
    "\n",
    "# Compare with sTos values\n",
    "missing_stos_dir = binetflow_clean_df[binetflow_clean_df['sTos'].isna()].groupby('Dir_Translated').size()/len(binetflow_clean_df['sTos'])\n",
    "\n",
    "print(missing_dtos_dir)\n",
    "print(missing_stos_dir)"
   ]
  },
  {
   "cell_type": "markdown",
   "id": "9e81c2d7",
   "metadata": {},
   "source": [
    "When grouped with direction, in both source and destination ToS, we have a consistent 481 missing values for a 'special case' direction. Recall from the section before, we translated 'who' to 'special case' in Dir. This is because a direction of 'who' usually tells us it's a communication between 2 devices using Address Resolution Protocol (ARP, more information: https://en.wikipedia.org/wiki/Address_Resolution_Protocol). This protocol is used to discover the MAC address of a device, which is a Layer 2/Data Link component. Recall that IP address is used when we're talking about Layer 3 and beyond, so it makes sense if a communication using the ARP protocol doesn't have any ToS value. \n",
    "\n",
    "Apart from that, outbound or inbound **only** traffics are more likely to disregard ToS value, with the most occurance of missing ToS value in normal outbound traffics. Let's assume for simplicity, if an outbound/inbound only traffic has a missing value in destination or source ToS, it probably has the same value of ToS to its counterpart. That is, if in an outbound traffic the destination ToS is missing, then we can safely assume that the missing value can be imputed by the value from the source ToS of that traffic. Same goes with inbound traffic."
   ]
  },
  {
   "cell_type": "code",
   "execution_count": 6,
   "id": "536b9c06",
   "metadata": {},
   "outputs": [],
   "source": [
    "# Imputing ARP communication based on Dir_Transalted with -1.0\n",
    "binetflow_clean_df['dTos'] = binetflow_clean_df.apply(\n",
    "    lambda row: -1.0 if pd.isna(row['dTos']) and row['Dir_Translated'] == 'special case' else row['dTos'], axis=1\n",
    ")\n",
    "\n",
    "binetflow_clean_df['sTos'] = binetflow_clean_df.apply(\n",
    "    lambda row: -1.0 if pd.isna(row['sTos']) and row['Dir_Translated'] == 'special case' else row['sTos'], axis=1\n",
    ")\n",
    "\n",
    "# Impute missing inbound/outbound only \n",
    "# Impute missing dTos with sTos\n",
    "binetflow_clean_df['dTos'] = binetflow_clean_df.apply(\n",
    "    lambda row: row['sTos'] if pd.isna(row['dTos']) and not pd.isna(row['sTos']) else row['dTos'], axis=1\n",
    ")\n",
    "\n",
    "# Impute missing sTos with dTos\n",
    "binetflow_clean_df['sTos'] = binetflow_clean_df.apply(\n",
    "    lambda row: row['dTos'] if pd.isna(row['sTos']) and not pd.isna(row['dTos']) else row['sTos'], axis=1\n",
    ")"
   ]
  },
  {
   "cell_type": "code",
   "execution_count": 7,
   "id": "7f95a8c0",
   "metadata": {},
   "outputs": [
    {
     "name": "stdout",
     "output_type": "stream",
     "text": [
      "Dir_Translated\n",
      "normal outbound    0.000005\n",
      "dtype: float64\n",
      "Dir_Translated\n",
      "normal outbound    0.000005\n",
      "dtype: float64\n"
     ]
    }
   ],
   "source": [
    "# Check for missing dTos values based on direction after imputation\n",
    "missing_dtos_dir = binetflow_clean_df[binetflow_clean_df['dTos'].isna()].groupby('Dir_Translated').size()/len(binetflow_clean_df['dTos'])\n",
    "\n",
    "# Compare with sTos values\n",
    "missing_stos_dir = binetflow_clean_df[binetflow_clean_df['sTos'].isna()].groupby('Dir_Translated').size()/len(binetflow_clean_df['sTos'])\n",
    "\n",
    "print(missing_dtos_dir)\n",
    "print(missing_stos_dir)"
   ]
  },
  {
   "cell_type": "markdown",
   "id": "3b438c3c",
   "metadata": {},
   "source": [
    "### Port"
   ]
  },
  {
   "cell_type": "code",
   "execution_count": 8,
   "id": "aaddcee5",
   "metadata": {},
   "outputs": [
    {
     "name": "stdout",
     "output_type": "stream",
     "text": [
      "Proto\n",
      "arp         477\n",
      "esp          10\n",
      "icmp       7031\n",
      "igmp       1803\n",
      "ipv6         10\n",
      "ipx/spx      13\n",
      "pim           7\n",
      "rarp          4\n",
      "tcp           1\n",
      "udp          22\n",
      "unas          1\n",
      "dtype: int64\n",
      "Proto\n",
      "arp           477\n",
      "icmp         1317\n",
      "igmp         1803\n",
      "ipv6           10\n",
      "ipv6-icmp      58\n",
      "ipx/spx        13\n",
      "pim             7\n",
      "rarp            4\n",
      "tcp           675\n",
      "udp            25\n",
      "unas            1\n",
      "dtype: int64\n"
     ]
    }
   ],
   "source": [
    "# Check for missing sport by protocol\n",
    "missing_sport_proto = binetflow_clean_df[binetflow_clean_df['Sport'].isna()].groupby('Proto').size()\n",
    "\n",
    "# Compare with dport values\n",
    "missing_dport_proto = binetflow_clean_df[binetflow_clean_df['Dport'].isna()].groupby('Proto').size()\n",
    "\n",
    "print(missing_sport_proto)\n",
    "print(missing_dport_proto)"
   ]
  },
  {
   "cell_type": "markdown",
   "id": "b926b96a",
   "metadata": {},
   "source": [
    "As expected, most of the protocols with missing port numbers are protocols from Layer 2 and 3 of the OSI model, which don't require port numbers to communicate. Port numbers are usually used in higher layers such as the Transport layer (TCP/UDP) to differentiate services/applications used by the client and server (80: HTTP, 22: SSH, 21: FTP, 53: DNS, etc). What interesting is, there are still missing port number values for communcation over the TCP and UDP protocols that supposed to have port numbers. We need to investigate that further but for now, the rest of the missing values can be imputed by 'invalid' or something like that."
   ]
  },
  {
   "cell_type": "code",
   "execution_count": 8,
   "id": "460ac893",
   "metadata": {},
   "outputs": [],
   "source": [
    "# Imputing ports with 'Not Applicable' for data missing not at random\n",
    "protocols = ['tcp', 'udp'] # valid protocols for port numbers \n",
    "binetflow_clean_df['Sport'] = binetflow_clean_df.apply(\n",
    "    lambda row: -1 if pd.isna(row['Sport']) and row['Proto'] not in protocols else row['Sport'], axis=1\n",
    ")\n",
    "\n",
    "binetflow_clean_df['Dport'] = binetflow_clean_df.apply(\n",
    "    lambda row: -1 if pd.isna(row['Dport']) and row['Proto'] not in protocols else row['Dport'], axis=1\n",
    ")"
   ]
  },
  {
   "cell_type": "code",
   "execution_count": 21,
   "id": "a1236546",
   "metadata": {},
   "outputs": [
    {
     "name": "stdout",
     "output_type": "stream",
     "text": [
      "Proto\n",
      "tcp    3.540279e-07\n",
      "udp    7.788614e-06\n",
      "dtype: float64\n",
      "Proto\n",
      "tcp    0.000239\n",
      "udp    0.000009\n",
      "dtype: float64\n"
     ]
    }
   ],
   "source": [
    "# Check for missing sport by protocol\n",
    "missing_sport_proto = binetflow_clean_df[binetflow_clean_df['Sport'].isna()].groupby('Proto').size()/len(binetflow_clean_df['Sport'])\n",
    "\n",
    "# Compare with dport values\n",
    "missing_dport_proto = binetflow_clean_df[binetflow_clean_df['Dport'].isna()].groupby('Proto').size()/len(binetflow_clean_df['Dport'])\n",
    "\n",
    "print(missing_sport_proto)\n",
    "print(missing_dport_proto)"
   ]
  },
  {
   "cell_type": "code",
   "execution_count": 28,
   "id": "2fea5337",
   "metadata": {},
   "outputs": [
    {
     "name": "stdout",
     "output_type": "stream",
     "text": [
      "         Sport Dport\n",
      "6372     42823   NaN\n",
      "7203     42824   NaN\n",
      "15701    52823   NaN\n",
      "16477    58689   NaN\n",
      "17201    58690   NaN\n",
      "...        ...   ...\n",
      "2808463  50726   NaN\n",
      "2809485  38205   NaN\n",
      "2810235  33116   NaN\n",
      "2810841  33117   NaN\n",
      "2811356  45270   NaN\n",
      "\n",
      "[675 rows x 2 columns]\n",
      "['Background']\n"
     ]
    }
   ],
   "source": [
    "tcp_missing_df = binetflow_clean_df[(binetflow_clean_df['Dport'].isna()) & (binetflow_clean_df['Proto'] == 'tcp')]\n",
    "print(tcp_missing_df[['Sport', 'Dport']])\n",
    "print(tcp_missing_df['actual_label'].unique())"
   ]
  },
  {
   "cell_type": "code",
   "execution_count": 13,
   "id": "9cf2963e",
   "metadata": {},
   "outputs": [
    {
     "data": {
      "text/plain": [
       "<Figure size 1200x800 with 0 Axes>"
      ]
     },
     "metadata": {},
     "output_type": "display_data"
    },
    {
     "data": {
      "image/png": "[encoded data removed]",
      "text/plain": [
       "<Figure size 2500x1000 with 2 Axes>"
      ]
     },
     "metadata": {},
     "output_type": "display_data"
    }
   ],
   "source": [
    "# Almost Final Visualization\n",
    "import missingno as msno\n",
    "\n",
    "# Visualize missing values with a matrix\n",
    "def visualize_missing_matrix(df):\n",
    "    plt.figure(figsize=(12, 8))\n",
    "    msno.matrix(df)\n",
    "    plt.show()\n",
    "\n",
    "# Call the function on your DataFrame\n",
    "visualize_missing_matrix(binetflow_clean_df)"
   ]
  },
  {
   "cell_type": "markdown",
   "id": "72caa5b5",
   "metadata": {},
   "source": [
    "Well done, now there's virtually no missing values!"
   ]
  },
  {
   "cell_type": "code",
   "execution_count": 30,
   "id": "08173681",
   "metadata": {},
   "outputs": [],
   "source": [
    "# Checkpoint 3\n",
    "# Saving dataframe to csv\n",
    "# binetflow_clean_df.to_csv('complete_binetflow.csv', index=False)\n",
    "\n",
    "# Load csv\n",
    "binetflow_complete_df = pd.read_csv('complete_binetflow.csv')"
   ]
  },
  {
   "cell_type": "code",
   "execution_count": 18,
   "id": "49004b6e",
   "metadata": {},
   "outputs": [
    {
     "data": {
      "text/plain": [
       "StartTime              0.000000\n",
       "Dur                    0.000000\n",
       "Proto                  0.000000\n",
       "SrcAddr                0.000000\n",
       "Sport                  0.000008\n",
       "DstAddr                0.000000\n",
       "Dport                  0.000248\n",
       "sTos                   0.000005\n",
       "dTos                   0.000005\n",
       "TotPkts                0.000000\n",
       "TotBytes               0.000000\n",
       "SrcBytes               0.000000\n",
       "Dir_Translated         0.000000\n",
       "parsed_flags_source    0.000000\n",
       "parsed_flags_dest      0.000068\n",
       "actual_label           0.000000\n",
       "combined_state         0.000038\n",
       "dtype: float64"
      ]
     },
     "execution_count": 18,
     "metadata": {},
     "output_type": "execute_result"
    }
   ],
   "source": [
    "binetflow_complete_df.isna().sum()/len(binetflow_complete_df)"
   ]
  },
  {
   "cell_type": "markdown",
   "id": "81b56f1f",
   "metadata": {},
   "source": [
    "At this point, the missing values in our dataset are most probably outliers, or missing at random. They only make a little portion of the whole dataset too, so I think it's safe if we just drop the rows with null values."
   ]
  },
  {
   "cell_type": "code",
   "execution_count": 31,
   "id": "1101e832",
   "metadata": {},
   "outputs": [],
   "source": [
    "binetflow_complete_df = binetflow_complete_df.dropna()"
   ]
  },
  {
   "cell_type": "code",
   "execution_count": 31,
   "id": "240fd84d",
   "metadata": {},
   "outputs": [
    {
     "data": {
      "text/plain": [
       "<Figure size 1200x800 with 0 Axes>"
      ]
     },
     "metadata": {},
     "output_type": "display_data"
    },
    {
     "data": {
      "image/png": "[encoded data removed]",
      "text/plain": [
       "<Figure size 2500x1000 with 2 Axes>"
      ]
     },
     "metadata": {},
     "output_type": "display_data"
    }
   ],
   "source": [
    "# Final Visualization\n",
    "import missingno as msno\n",
    "\n",
    "# Visualize missing values with a matrix\n",
    "def visualize_missing_matrix(df):\n",
    "    plt.figure(figsize=(12, 8))\n",
    "    msno.matrix(df)\n",
    "    plt.show()\n",
    "\n",
    "# Call the function on your DataFrame\n",
    "visualize_missing_matrix(binetflow_complete_df)"
   ]
  },
  {
   "cell_type": "markdown",
   "id": "87521a99",
   "metadata": {},
   "source": [
    "## Numerical Features Exploration\n",
    "\n",
    "We've explored quite a lot of features, mostly categorical. Now, let's focus our attention on numerical columns, specifically for this section: outliers."
   ]
  },
  {
   "cell_type": "code",
   "execution_count": 5,
   "id": "b887ca22",
   "metadata": {},
   "outputs": [
    {
     "data": {
      "text/html": [
       "<div>\n",
       "<style scoped>\n",
       "    .dataframe tbody tr th:only-of-type {\n",
       "        vertical-align: middle;\n",
       "    }\n",
       "\n",
       "    .dataframe tbody tr th {\n",
       "        vertical-align: top;\n",
       "    }\n",
       "\n",
       "    .dataframe thead th {\n",
       "        text-align: right;\n",
       "    }\n",
       "</style>\n",
       "<table border=\"1\" class=\"dataframe\">\n",
       "  <thead>\n",
       "    <tr style=\"text-align: right;\">\n",
       "      <th></th>\n",
       "      <th>StartTime</th>\n",
       "      <th>Dur</th>\n",
       "      <th>Proto</th>\n",
       "      <th>SrcAddr</th>\n",
       "      <th>Sport</th>\n",
       "      <th>DstAddr</th>\n",
       "      <th>Dport</th>\n",
       "      <th>sTos</th>\n",
       "      <th>dTos</th>\n",
       "      <th>TotPkts</th>\n",
       "      <th>TotBytes</th>\n",
       "      <th>SrcBytes</th>\n",
       "      <th>Dir_Translated</th>\n",
       "      <th>parsed_flags_source</th>\n",
       "      <th>parsed_flags_dest</th>\n",
       "      <th>actual_label</th>\n",
       "      <th>combined_state</th>\n",
       "    </tr>\n",
       "  </thead>\n",
       "  <tbody>\n",
       "    <tr>\n",
       "      <th>0</th>\n",
       "      <td>2011-08-10 09:46:59.607825</td>\n",
       "      <td>1.026539</td>\n",
       "      <td>tcp</td>\n",
       "      <td>94.44.127.113</td>\n",
       "      <td>1577</td>\n",
       "      <td>147.32.84.59</td>\n",
       "      <td>6881</td>\n",
       "      <td>0.0</td>\n",
       "      <td>0.0</td>\n",
       "      <td>4</td>\n",
       "      <td>276</td>\n",
       "      <td>156</td>\n",
       "      <td>normal outbound</td>\n",
       "      <td>Syn</td>\n",
       "      <td>Reset Ack</td>\n",
       "      <td>Background</td>\n",
       "      <td>Invalid</td>\n",
       "    </tr>\n",
       "    <tr>\n",
       "      <th>1</th>\n",
       "      <td>2011-08-10 09:47:00.634364</td>\n",
       "      <td>1.009595</td>\n",
       "      <td>tcp</td>\n",
       "      <td>94.44.127.113</td>\n",
       "      <td>1577</td>\n",
       "      <td>147.32.84.59</td>\n",
       "      <td>6881</td>\n",
       "      <td>0.0</td>\n",
       "      <td>0.0</td>\n",
       "      <td>4</td>\n",
       "      <td>276</td>\n",
       "      <td>156</td>\n",
       "      <td>normal outbound</td>\n",
       "      <td>Syn</td>\n",
       "      <td>Reset Ack</td>\n",
       "      <td>Background</td>\n",
       "      <td>Invalid</td>\n",
       "    </tr>\n",
       "    <tr>\n",
       "      <th>2</th>\n",
       "      <td>2011-08-10 09:47:48.185538</td>\n",
       "      <td>3.056586</td>\n",
       "      <td>tcp</td>\n",
       "      <td>147.32.86.89</td>\n",
       "      <td>4768</td>\n",
       "      <td>77.75.73.33</td>\n",
       "      <td>80</td>\n",
       "      <td>0.0</td>\n",
       "      <td>0.0</td>\n",
       "      <td>3</td>\n",
       "      <td>182</td>\n",
       "      <td>122</td>\n",
       "      <td>normal outbound</td>\n",
       "      <td>Syn Reset</td>\n",
       "      <td>Ack</td>\n",
       "      <td>Background</td>\n",
       "      <td>Invalid</td>\n",
       "    </tr>\n",
       "    <tr>\n",
       "      <th>3</th>\n",
       "      <td>2011-08-10 09:47:48.230897</td>\n",
       "      <td>3.111769</td>\n",
       "      <td>tcp</td>\n",
       "      <td>147.32.86.89</td>\n",
       "      <td>4788</td>\n",
       "      <td>77.75.73.33</td>\n",
       "      <td>80</td>\n",
       "      <td>0.0</td>\n",
       "      <td>0.0</td>\n",
       "      <td>3</td>\n",
       "      <td>182</td>\n",
       "      <td>122</td>\n",
       "      <td>normal outbound</td>\n",
       "      <td>Syn Reset</td>\n",
       "      <td>Ack</td>\n",
       "      <td>Background</td>\n",
       "      <td>Invalid</td>\n",
       "    </tr>\n",
       "    <tr>\n",
       "      <th>4</th>\n",
       "      <td>2011-08-10 09:47:48.963351</td>\n",
       "      <td>3.083411</td>\n",
       "      <td>tcp</td>\n",
       "      <td>147.32.86.89</td>\n",
       "      <td>4850</td>\n",
       "      <td>77.75.73.33</td>\n",
       "      <td>80</td>\n",
       "      <td>0.0</td>\n",
       "      <td>0.0</td>\n",
       "      <td>3</td>\n",
       "      <td>182</td>\n",
       "      <td>122</td>\n",
       "      <td>normal outbound</td>\n",
       "      <td>Syn Reset</td>\n",
       "      <td>Ack</td>\n",
       "      <td>Background</td>\n",
       "      <td>Invalid</td>\n",
       "    </tr>\n",
       "  </tbody>\n",
       "</table>\n",
       "</div>"
      ],
      "text/plain": [
       "                    StartTime       Dur Proto        SrcAddr Sport  \\\n",
       "0  2011-08-10 09:46:59.607825  1.026539   tcp  94.44.127.113  1577   \n",
       "1  2011-08-10 09:47:00.634364  1.009595   tcp  94.44.127.113  1577   \n",
       "2  2011-08-10 09:47:48.185538  3.056586   tcp   147.32.86.89  4768   \n",
       "3  2011-08-10 09:47:48.230897  3.111769   tcp   147.32.86.89  4788   \n",
       "4  2011-08-10 09:47:48.963351  3.083411   tcp   147.32.86.89  4850   \n",
       "\n",
       "        DstAddr Dport  sTos  dTos  TotPkts  TotBytes  SrcBytes  \\\n",
       "0  147.32.84.59  6881   0.0   0.0        4       276       156   \n",
       "1  147.32.84.59  6881   0.0   0.0        4       276       156   \n",
       "2   77.75.73.33    80   0.0   0.0        3       182       122   \n",
       "3   77.75.73.33    80   0.0   0.0        3       182       122   \n",
       "4   77.75.73.33    80   0.0   0.0        3       182       122   \n",
       "\n",
       "    Dir_Translated parsed_flags_source parsed_flags_dest actual_label  \\\n",
       "0  normal outbound                 Syn         Reset Ack   Background   \n",
       "1  normal outbound                 Syn         Reset Ack   Background   \n",
       "2  normal outbound           Syn Reset               Ack   Background   \n",
       "3  normal outbound           Syn Reset               Ack   Background   \n",
       "4  normal outbound           Syn Reset               Ack   Background   \n",
       "\n",
       "  combined_state  \n",
       "0        Invalid  \n",
       "1        Invalid  \n",
       "2        Invalid  \n",
       "3        Invalid  \n",
       "4        Invalid  "
      ]
     },
     "execution_count": 5,
     "metadata": {},
     "output_type": "execute_result"
    }
   ],
   "source": [
    "binetflow_complete_df.head()"
   ]
  },
  {
   "cell_type": "code",
   "execution_count": 32,
   "id": "8b87cf8c",
   "metadata": {},
   "outputs": [],
   "source": [
    "# I don't know this keeps happening but I need to re-cast the datatype again...\n",
    "\n",
    "binetflow_complete_df['StartTime'] = pd.to_datetime(binetflow_complete_df['StartTime'])\n",
    "binetflow_complete_df['sTos'] = binetflow_complete_df['sTos'].astype('category')\n",
    "binetflow_complete_df['dTos'] = binetflow_complete_df['dTos'].astype('category')\n",
    "binetflow_complete_df['Proto'] = binetflow_complete_df['Proto'].astype('category')\n",
    "binetflow_complete_df['Dir_Translated'] = binetflow_complete_df['Dir_Translated'].astype('category')\n",
    "binetflow_complete_df['actual_label'] = binetflow_complete_df['actual_label'].astype('category')\n",
    "binetflow_complete_df['Sport'] = binetflow_complete_df['Sport'].astype('category')\n",
    "binetflow_complete_df['Dport'] = binetflow_complete_df['Dport'].astype('category')\n",
    "binetflow_complete_df['combined_state'] = binetflow_complete_df['combined_state'].astype('category')"
   ]
  },
  {
   "cell_type": "code",
   "execution_count": 7,
   "id": "8ff65478",
   "metadata": {},
   "outputs": [
    {
     "data": {
      "text/plain": [
       "StartTime              datetime64[ns]\n",
       "Dur                           float64\n",
       "Proto                        category\n",
       "SrcAddr                        object\n",
       "Sport                        category\n",
       "DstAddr                        object\n",
       "Dport                        category\n",
       "sTos                         category\n",
       "dTos                         category\n",
       "TotPkts                         int64\n",
       "TotBytes                        int64\n",
       "SrcBytes                        int64\n",
       "Dir_Translated               category\n",
       "parsed_flags_source            object\n",
       "parsed_flags_dest              object\n",
       "actual_label                 category\n",
       "combined_state               category\n",
       "dtype: object"
      ]
     },
     "execution_count": 7,
     "metadata": {},
     "output_type": "execute_result"
    }
   ],
   "source": [
    "binetflow_complete_df.dtypes"
   ]
  },
  {
   "cell_type": "code",
   "execution_count": 33,
   "id": "e117a960",
   "metadata": {},
   "outputs": [
    {
     "data": {
      "text/html": [
       "<div>\n",
       "<style scoped>\n",
       "    .dataframe tbody tr th:only-of-type {\n",
       "        vertical-align: middle;\n",
       "    }\n",
       "\n",
       "    .dataframe tbody tr th {\n",
       "        vertical-align: top;\n",
       "    }\n",
       "\n",
       "    .dataframe thead th {\n",
       "        text-align: right;\n",
       "    }\n",
       "</style>\n",
       "<table border=\"1\" class=\"dataframe\">\n",
       "  <thead>\n",
       "    <tr style=\"text-align: right;\">\n",
       "      <th></th>\n",
       "      <th>Dur</th>\n",
       "      <th>TotPkts</th>\n",
       "      <th>TotBytes</th>\n",
       "      <th>SrcBytes</th>\n",
       "    </tr>\n",
       "  </thead>\n",
       "  <tbody>\n",
       "    <tr>\n",
       "      <th>0</th>\n",
       "      <td>1.026539</td>\n",
       "      <td>4</td>\n",
       "      <td>276</td>\n",
       "      <td>156</td>\n",
       "    </tr>\n",
       "    <tr>\n",
       "      <th>1</th>\n",
       "      <td>1.009595</td>\n",
       "      <td>4</td>\n",
       "      <td>276</td>\n",
       "      <td>156</td>\n",
       "    </tr>\n",
       "    <tr>\n",
       "      <th>2</th>\n",
       "      <td>3.056586</td>\n",
       "      <td>3</td>\n",
       "      <td>182</td>\n",
       "      <td>122</td>\n",
       "    </tr>\n",
       "    <tr>\n",
       "      <th>3</th>\n",
       "      <td>3.111769</td>\n",
       "      <td>3</td>\n",
       "      <td>182</td>\n",
       "      <td>122</td>\n",
       "    </tr>\n",
       "    <tr>\n",
       "      <th>4</th>\n",
       "      <td>3.083411</td>\n",
       "      <td>3</td>\n",
       "      <td>182</td>\n",
       "      <td>122</td>\n",
       "    </tr>\n",
       "  </tbody>\n",
       "</table>\n",
       "</div>"
      ],
      "text/plain": [
       "        Dur  TotPkts  TotBytes  SrcBytes\n",
       "0  1.026539        4       276       156\n",
       "1  1.009595        4       276       156\n",
       "2  3.056586        3       182       122\n",
       "3  3.111769        3       182       122\n",
       "4  3.083411        3       182       122"
      ]
     },
     "execution_count": 33,
     "metadata": {},
     "output_type": "execute_result"
    }
   ],
   "source": [
    "# Subset DataFrame to only numerical columns\n",
    "numerical_df = binetflow_complete_df.select_dtypes(include=['number'])\n",
    "numerical_df.head()"
   ]
  },
  {
   "cell_type": "markdown",
   "id": "2abaed60",
   "metadata": {},
   "source": [
    "### Correlation Matrix"
   ]
  },
  {
   "cell_type": "code",
   "execution_count": 17,
   "id": "e2f43530",
   "metadata": {},
   "outputs": [
    {
     "data": {
      "image/png": "[encoded data removed]",
      "text/plain": [
       "<Figure size 640x480 with 2 Axes>"
      ]
     },
     "metadata": {},
     "output_type": "display_data"
    }
   ],
   "source": [
    "import seaborn as sns\n",
    "import matplotlib.pyplot as plt\n",
    "import numpy as np\n",
    "\n",
    "corr_matrix = numerical_df.corr()\n",
    "mask = np.triu(np.ones_like(corr_matrix, dtype=bool))\n",
    "sns.heatmap(corr_matrix, mask=mask, annot=True, cmap='coolwarm', square=True, linewidths=0.5)\n",
    "plt.show()"
   ]
  },
  {
   "cell_type": "markdown",
   "id": "fbe128d7",
   "metadata": {},
   "source": [
    "We found redundant features! Total Bytes and Total Packets are almost perfectly correlated with each other. This is because you can calculate the value of one from the other (packet = X bytes)."
   ]
  },
  {
   "cell_type": "code",
   "execution_count": 34,
   "id": "6f29b211",
   "metadata": {},
   "outputs": [],
   "source": [
    "numerical_df.drop('TotPkts', axis=1, inplace=True)"
   ]
  },
  {
   "cell_type": "code",
   "execution_count": 35,
   "id": "f27aaa14",
   "metadata": {},
   "outputs": [],
   "source": [
    "binetflow_complete_df.drop('TotPkts', axis=1, inplace=True)"
   ]
  },
  {
   "cell_type": "markdown",
   "id": "a7ac1c34",
   "metadata": {},
   "source": [
    "### Plotting Distribution"
   ]
  },
  {
   "cell_type": "code",
   "execution_count": 9,
   "id": "443c0d1b",
   "metadata": {},
   "outputs": [
    {
     "data": {
      "text/html": [
       "<div>\n",
       "<style scoped>\n",
       "    .dataframe tbody tr th:only-of-type {\n",
       "        vertical-align: middle;\n",
       "    }\n",
       "\n",
       "    .dataframe tbody tr th {\n",
       "        vertical-align: top;\n",
       "    }\n",
       "\n",
       "    .dataframe thead th {\n",
       "        text-align: right;\n",
       "    }\n",
       "</style>\n",
       "<table border=\"1\" class=\"dataframe\">\n",
       "  <thead>\n",
       "    <tr style=\"text-align: right;\">\n",
       "      <th></th>\n",
       "      <th>Dur</th>\n",
       "      <th>TotBytes</th>\n",
       "      <th>SrcBytes</th>\n",
       "    </tr>\n",
       "  </thead>\n",
       "  <tbody>\n",
       "    <tr>\n",
       "      <th>count</th>\n",
       "      <td>2823622.0</td>\n",
       "      <td>2.823622e+06</td>\n",
       "      <td>2.823622e+06</td>\n",
       "    </tr>\n",
       "    <tr>\n",
       "      <th>mean</th>\n",
       "      <td>432.1</td>\n",
       "      <td>1.929800e+04</td>\n",
       "      <td>4.156500e+03</td>\n",
       "    </tr>\n",
       "    <tr>\n",
       "      <th>std</th>\n",
       "      <td>995.7</td>\n",
       "      <td>3.212762e+06</td>\n",
       "      <td>1.858864e+06</td>\n",
       "    </tr>\n",
       "    <tr>\n",
       "      <th>min</th>\n",
       "      <td>0.0</td>\n",
       "      <td>6.000000e+01</td>\n",
       "      <td>0.000000e+00</td>\n",
       "    </tr>\n",
       "    <tr>\n",
       "      <th>25%</th>\n",
       "      <td>0.0</td>\n",
       "      <td>2.140000e+02</td>\n",
       "      <td>7.800000e+01</td>\n",
       "    </tr>\n",
       "    <tr>\n",
       "      <th>50%</th>\n",
       "      <td>0.0</td>\n",
       "      <td>2.610000e+02</td>\n",
       "      <td>8.200000e+01</td>\n",
       "    </tr>\n",
       "    <tr>\n",
       "      <th>75%</th>\n",
       "      <td>9.0</td>\n",
       "      <td>5.890000e+02</td>\n",
       "      <td>2.610000e+02</td>\n",
       "    </tr>\n",
       "    <tr>\n",
       "      <th>max</th>\n",
       "      <td>3600.0</td>\n",
       "      <td>2.689640e+09</td>\n",
       "      <td>2.635366e+09</td>\n",
       "    </tr>\n",
       "  </tbody>\n",
       "</table>\n",
       "</div>"
      ],
      "text/plain": [
       "             Dur      TotBytes      SrcBytes\n",
       "count  2823622.0  2.823622e+06  2.823622e+06\n",
       "mean       432.1  1.929800e+04  4.156500e+03\n",
       "std        995.7  3.212762e+06  1.858864e+06\n",
       "min          0.0  6.000000e+01  0.000000e+00\n",
       "25%          0.0  2.140000e+02  7.800000e+01\n",
       "50%          0.0  2.610000e+02  8.200000e+01\n",
       "75%          9.0  5.890000e+02  2.610000e+02\n",
       "max       3600.0  2.689640e+09  2.635366e+09"
      ]
     },
     "execution_count": 9,
     "metadata": {},
     "output_type": "execute_result"
    }
   ],
   "source": [
    "numerical_df.describe().round(1)"
   ]
  },
  {
   "cell_type": "code",
   "execution_count": 31,
   "id": "8db4671a",
   "metadata": {},
   "outputs": [
    {
     "data": {
      "image/png": "[encoded data removed]",
      "text/plain": [
       "<Figure size 1000x1000 with 3 Axes>"
      ]
     },
     "metadata": {},
     "output_type": "display_data"
    }
   ],
   "source": [
    "import matplotlib.pyplot as plt\n",
    "import seaborn as sns\n",
    "\n",
    "# Set the number of rows and columns for subplots\n",
    "num_columns = numerical_df.shape[1]\n",
    "num_rows = (num_columns // 3) + 1\n",
    "fig, axes = plt.subplots(num_rows, 3, figsize=(10, num_rows * 5))\n",
    "axes = axes.flatten()\n",
    "\n",
    "for i, col in enumerate(numerical_df.columns):\n",
    "    sns.kdeplot(numerical_df[col], ax=axes[i], fill=True)\n",
    "    axes[i].set_title(f'Distribution of {col}')\n",
    "\n",
    "for j in range(i + 1, len(axes)):\n",
    "    fig.delaxes(axes[j])\n",
    "\n",
    "plt.tight_layout()\n",
    "plt.show()"
   ]
  },
  {
   "cell_type": "markdown",
   "id": "cd0e42d9",
   "metadata": {},
   "source": [
    "There's definitely something wrong with the total bytes and source bytes that make the visualization so skewed."
   ]
  },
  {
   "cell_type": "markdown",
   "id": "50bbef37",
   "metadata": {},
   "source": [
    "\n",
    "### Transformation and Binning"
   ]
  },
  {
   "cell_type": "code",
   "execution_count": 37,
   "id": "c23c0490",
   "metadata": {},
   "outputs": [
    {
     "data": {
      "image/png": "[encoded data removed]",
      "text/plain": [
       "<Figure size 1500x1500 with 2 Axes>"
      ]
     },
     "metadata": {},
     "output_type": "display_data"
    }
   ],
   "source": [
    "# Define bin edges and labels\n",
    "bin_edges = [0, 1000, 10000, 100000, 1000000, float('inf')]\n",
    "bin_labels = ['0-1k', '1k-10k', '10k-100k', '100k-1M', '1M+']\n",
    "\n",
    "# Bin the data\n",
    "numerical_df['TotBytes_binned'] = pd.cut(numerical_df['TotBytes'], bins=bin_edges, labels=bin_labels)\n",
    "numerical_df['SrcBytes_binned'] = pd.cut(numerical_df['SrcBytes'], bins=bin_edges, labels=bin_labels)\n",
    "numerical_df['actual_label'] = binetflow_complete_df['actual_label']\n",
    "\n",
    "# Visualization\n",
    "# Set the number of rows and columns for subplots\n",
    "num_columns = numerical_df.shape[1]\n",
    "num_rows = (num_columns // 3) + 1\n",
    "fig, axes = plt.subplots(num_rows, 3, figsize=(15, num_rows * 5))\n",
    "axes = axes.flatten()\n",
    "\n",
    "columns = ['TotBytes_binned', 'SrcBytes_binned']\n",
    "for i, col in enumerate(columns):\n",
    "    sns.histplot(data=numerical_df, ax=axes[i], fill=True, hue='actual_label', x=numerical_df[col], multiple='stack')\n",
    "    axes[i].set_title(f'Distribution of {col}')\n",
    "\n",
    "for j in range(i + 1, len(axes)):\n",
    "    fig.delaxes(axes[j])\n",
    "\n",
    "plt.tight_layout()\n",
    "plt.show()"
   ]
  },
  {
   "cell_type": "markdown",
   "id": "5ebfa0ce",
   "metadata": {},
   "source": [
    "It seems like most of the communcation has sent less than 1 kilobyte packets. Maybe up to 10 kilobytes but anything after that is more likely an outlier"
   ]
  },
  {
   "cell_type": "code",
   "execution_count": 38,
   "id": "f1620589",
   "metadata": {},
   "outputs": [],
   "source": [
    "# Transforming numerical_df\n",
    "\n",
    "transformed_numerical = numerical_df.copy()\n",
    "transformed_numerical['Dur'] = np.log1p(transformed_numerical['Dur'])\n",
    "transformed_numerical['SrcBytes'] = np.log1p(transformed_numerical['SrcBytes'])\n",
    "transformed_numerical['TotBytes'] = np.log1p(transformed_numerical['TotBytes'])\n",
    "transformed_numerical['actual_label'] = binetflow_complete_df['actual_label']\n",
    "# sns.kdeplot(data=transformed_numerical, x='Dur', hue='actual_label')\n",
    "# plt.show()"
   ]
  },
  {
   "cell_type": "code",
   "execution_count": 39,
   "id": "634721eb",
   "metadata": {},
   "outputs": [
    {
     "data": {
      "text/plain": [
       "Dur                 float64\n",
       "TotBytes            float64\n",
       "SrcBytes            float64\n",
       "TotBytes_binned    category\n",
       "SrcBytes_binned    category\n",
       "actual_label       category\n",
       "dtype: object"
      ]
     },
     "execution_count": 39,
     "metadata": {},
     "output_type": "execute_result"
    }
   ],
   "source": [
    "transformed_numerical.dtypes"
   ]
  },
  {
   "cell_type": "code",
   "execution_count": 27,
   "id": "fd429119",
   "metadata": {},
   "outputs": [
    {
     "data": {
      "image/png": "[encoded data removed]",
      "text/plain": [
       "<Figure size 640x480 with 2 Axes>"
      ]
     },
     "metadata": {},
     "output_type": "display_data"
    }
   ],
   "source": [
    "corr_matrix = transformed_numerical.select_dtypes(include=['number']).corr()\n",
    "mask = np.triu(np.ones_like(corr_matrix, dtype=bool))\n",
    "sns.heatmap(corr_matrix, mask=mask, annot=True, cmap='coolwarm', square=True, linewidths=0.5)\n",
    "plt.show()"
   ]
  },
  {
   "cell_type": "markdown",
   "id": "f1afbb35",
   "metadata": {},
   "source": [
    "It seems like after all duration and bytes sent have a positive (albeit weak) correlation with each other. Total bytes and Source bytes are strongly correlated but not a perfect fit for each other. I will be keeping them for now"
   ]
  },
  {
   "cell_type": "markdown",
   "id": "f60fe992",
   "metadata": {},
   "source": [
    "### IQR Calculation and Outlier Removal"
   ]
  },
  {
   "cell_type": "code",
   "execution_count": 40,
   "id": "e290d19a",
   "metadata": {},
   "outputs": [],
   "source": [
    "def handle_outliers(df, method='find'):\n",
    "    numerical_cols = df.select_dtypes(include=['number']).columns\n",
    "    outliers_dict = {}\n",
    "    \n",
    "    for col in numerical_cols:\n",
    "        Q1 = df[col].quantile(0.25)\n",
    "        Q3 = df[col].quantile(0.75)\n",
    "        IQR = Q3 - Q1\n",
    "\n",
    "        lower_bound = Q1 - 1.5 * IQR\n",
    "        upper_bound = Q3 + 1.5 * IQR\n",
    "\n",
    "        if method == 'find':\n",
    "            outliers = df[(df[col] < lower_bound) | (df[col] > upper_bound)]\n",
    "            if not outliers.empty:\n",
    "                outliers_dict[col] = outliers\n",
    "        elif method == 'clip':\n",
    "            df = df[(df[col] >= lower_bound) & (df[col] <= upper_bound)]\n",
    "\n",
    "    if method == 'find':\n",
    "        return outliers_dict\n",
    "    elif method == 'clip':\n",
    "        return df"
   ]
  },
  {
   "cell_type": "code",
   "execution_count": 41,
   "id": "98c33e82",
   "metadata": {},
   "outputs": [
    {
     "name": "stdout",
     "output_type": "stream",
     "text": [
      "Number of outliers in Dur:\n",
      "497030\n",
      "Number of outliers in TotBytes:\n",
      "270537\n",
      "Number of outliers in SrcBytes:\n",
      "191730\n"
     ]
    }
   ],
   "source": [
    "outliers = handle_outliers(transformed_numerical, method='find')\n",
    "\n",
    "# Print outliers if using 'find' method\n",
    "if outliers:\n",
    "    for col, outlier_df in outliers.items():\n",
    "        print(f\"Number of outliers in {col}:\")\n",
    "        print(len(outlier_df))"
   ]
  },
  {
   "cell_type": "code",
   "execution_count": 21,
   "id": "7406250f",
   "metadata": {},
   "outputs": [
    {
     "data": {
      "text/plain": [
       "actual_label\n",
       "Background    191353\n",
       "Botnet           377\n",
       "Name: count, dtype: int64"
      ]
     },
     "execution_count": 21,
     "metadata": {},
     "output_type": "execute_result"
    }
   ],
   "source": [
    "outlier_df['actual_label'].value_counts()"
   ]
  },
  {
   "cell_type": "code",
   "execution_count": 42,
   "id": "3229b7bb",
   "metadata": {},
   "outputs": [
    {
     "data": {
      "image/png": "[encoded data removed]",
      "text/plain": [
       "<Figure size 1500x1500 with 3 Axes>"
      ]
     },
     "metadata": {},
     "output_type": "display_data"
    }
   ],
   "source": [
    "# Visualization\n",
    "# Set the number of rows and columns for subplots\n",
    "num_columns = transformed_numerical.shape[1]\n",
    "num_rows = (num_columns // 3) + 1\n",
    "fig, axes = plt.subplots(num_rows, 3, figsize=(15, num_rows * 5))\n",
    "axes = axes.flatten()\n",
    "\n",
    "for i, col in enumerate(transformed_numerical.select_dtypes(include=['number']).columns):\n",
    "    sns.boxplot(data=transformed_numerical, ax=axes[i], y='actual_label', x=transformed_numerical[col])\n",
    "    axes[i].set_title(f'Distribution of {col}')\n",
    "\n",
    "for j in range(i + 1, len(axes)):\n",
    "    fig.delaxes(axes[j])\n",
    "\n",
    "plt.tight_layout()\n",
    "plt.show()"
   ]
  },
  {
   "cell_type": "markdown",
   "id": "82cfe3b0",
   "metadata": {},
   "source": [
    "It seems like the distribution of both background and botnet traffics are more or less the same. The biggest difference lies on the sent packets in bytes by the botnet. It seems like the botnet's network performance is limited to 12 (mind you this is from a log-transformed data so 12 here doesn't exactly mean 12 bytes). If we remove any data that exceeds that threshold, we can still keep insights on the botnet's behavior but still getting rid of a portion of the data!"
   ]
  },
  {
   "cell_type": "code",
   "execution_count": 43,
   "id": "86cfb6b8",
   "metadata": {},
   "outputs": [
    {
     "name": "stdout",
     "output_type": "stream",
     "text": [
      "Rows after removing outliers from original dataset: (2813164, 6)\n"
     ]
    }
   ],
   "source": [
    "# Assume your threshold in the log-transformed data is 15 or 20 (example)\n",
    "log_threshold = 12\n",
    "\n",
    "# Filter the original dataset using this threshold\n",
    "cleaned_transformed_df = transformed_numerical[\n",
    "    (transformed_numerical['TotBytes'] <= log_threshold) &\n",
    "    (transformed_numerical['SrcBytes'] <= log_threshold)\n",
    "]\n",
    "\n",
    "# Check how many rows remain\n",
    "print(\"Rows after removing outliers from original dataset:\", cleaned_transformed_df.shape)"
   ]
  },
  {
   "cell_type": "code",
   "execution_count": 29,
   "id": "4d2ee3e9",
   "metadata": {},
   "outputs": [
    {
     "name": "stdout",
     "output_type": "stream",
     "text": [
      "Threshold in original scale: 162753.79141900392\n",
      "Rows after removing outliers from original dataset: (2813164, 16)\n"
     ]
    }
   ],
   "source": [
    "log_threshold = 12\n",
    "# Invert the transformation to get the threshold in the original scale\n",
    "original_threshold = np.expm1(log_threshold)\n",
    "\n",
    "print(f\"Threshold in original scale: {original_threshold}\")\n",
    "\n",
    "# Filter the original dataset using this threshold\n",
    "cleaned_original_df = binetflow_complete_df[\n",
    "    (binetflow_complete_df['TotBytes'] <= original_threshold) &\n",
    "    (binetflow_complete_df['SrcBytes'] <= original_threshold)\n",
    "]\n",
    "\n",
    "# Check how many rows remain\n",
    "print(\"Rows after removing outliers from original dataset:\", cleaned_original_df.shape)"
   ]
  },
  {
   "cell_type": "code",
   "execution_count": 45,
   "id": "cb9f8018",
   "metadata": {},
   "outputs": [
    {
     "name": "stdout",
     "output_type": "stream",
     "text": [
      "Outliers: Dur         51061\n",
      "TotBytes    44554\n",
      "SrcBytes    22556\n",
      "dtype: int64\n"
     ]
    },
    {
     "data": {
      "text/plain": [
       "(2713777, 16)"
      ]
     },
     "execution_count": 45,
     "metadata": {},
     "output_type": "execute_result"
    }
   ],
   "source": [
    "from scipy import stats\n",
    "\n",
    "threshold = 3\n",
    "z_scores = np.abs(stats.zscore(cleaned_original_df.select_dtypes(include=['number'])))\n",
    "outliers = (z_scores > threshold).any(axis=1)\n",
    "print(\"Outliers:\", (z_scores > threshold).sum(axis=0))\n",
    "\n",
    "cleaned_original_df = cleaned_original_df[~outliers]\n",
    "cleaned_original_df.shape"
   ]
  },
  {
   "cell_type": "code",
   "execution_count": 73,
   "id": "936c8a31",
   "metadata": {},
   "outputs": [],
   "source": [
    "# Checkpoint 4 bcs all of that was kinda destructive\n",
    "# Save to csv\n",
    "# cleaned_original_df.to_csv('complete_no_outlier_binetflow.csv', index=False)\n",
    "\n",
    "# Load\n",
    "binetflow_ready_df = pd.read_csv('complete_no_outlier_binetflow.csv')"
   ]
  },
  {
   "cell_type": "markdown",
   "id": "4f9d17a2",
   "metadata": {},
   "source": [
    "## Reducing Numerosity\n",
    "\n",
    "It's time to reduce the dataset into a smaller portion of it. Let's be honest, a 6 hours long packet capture with mostly background traffic is pretty huge and mostly consist of traffics that might not be of our interest. We will be reducing numerosity on this section."
   ]
  },
  {
   "cell_type": "markdown",
   "id": "5b908d47",
   "metadata": {},
   "source": [
    "### Duplicate Data Removal\n",
    "\n",
    "Duplicates might be hard to spot with the naked eye because it seems like almost all the 3 million rows are unique, since they have differing start time. But upon quick inspection of the first 5 rows of the dataset, it can be seen that the first 2 rows basically tell the same story (client is initiating communication through TCP). They just have different start time since the tool captures the same event on different time. "
   ]
  },
  {
   "cell_type": "code",
   "execution_count": 50,
   "id": "a7568dd0",
   "metadata": {},
   "outputs": [],
   "source": [
    "# I don't know how this keeps happening but I need to re-cast the datatype again...\n",
    "\n",
    "binetflow_ready_df['StartTime'] = pd.to_datetime(binetflow_ready_df['StartTime'])\n",
    "binetflow_ready_df['sTos'] = binetflow_ready_df['sTos'].astype('category')\n",
    "binetflow_ready_df['dTos'] = binetflow_ready_df['dTos'].astype('category')\n",
    "binetflow_ready_df['Proto'] = binetflow_ready_df['Proto'].astype('category')\n",
    "binetflow_ready_df['Dir_Translated'] = binetflow_ready_df['Dir_Translated'].astype('category')\n",
    "binetflow_ready_df['actual_label'] = binetflow_ready_df['actual_label'].astype('category')\n",
    "binetflow_ready_df['Sport'] = binetflow_ready_df['Sport'].astype('category')\n",
    "binetflow_ready_df['Dport'] = binetflow_ready_df['Dport'].astype('category')\n",
    "binetflow_ready_df['combined_state'] = binetflow_ready_df['combined_state'].astype('category')"
   ]
  },
  {
   "cell_type": "code",
   "execution_count": 51,
   "id": "fb396d65",
   "metadata": {},
   "outputs": [
    {
     "data": {
      "text/plain": [
       "StartTime              datetime64[ns]\n",
       "Dur                           float64\n",
       "Proto                        category\n",
       "SrcAddr                        object\n",
       "Sport                        category\n",
       "DstAddr                        object\n",
       "Dport                        category\n",
       "sTos                         category\n",
       "dTos                         category\n",
       "TotBytes                        int64\n",
       "SrcBytes                        int64\n",
       "Dir_Translated               category\n",
       "parsed_flags_source            object\n",
       "parsed_flags_dest              object\n",
       "actual_label                 category\n",
       "combined_state               category\n",
       "dtype: object"
      ]
     },
     "execution_count": 51,
     "metadata": {},
     "output_type": "execute_result"
    }
   ],
   "source": [
    "binetflow_ready_df.dtypes"
   ]
  },
  {
   "cell_type": "code",
   "execution_count": 132,
   "id": "0b7d5b74",
   "metadata": {},
   "outputs": [
    {
     "data": {
      "text/plain": [
       "(2713777, 16)"
      ]
     },
     "execution_count": 132,
     "metadata": {},
     "output_type": "execute_result"
    }
   ],
   "source": [
    "binetflow_ready_df.shape"
   ]
  },
  {
   "cell_type": "code",
   "execution_count": 53,
   "id": "88c54b4d",
   "metadata": {},
   "outputs": [
    {
     "name": "stdout",
     "output_type": "stream",
     "text": [
      "50372\n"
     ]
    }
   ],
   "source": [
    "key_columns = ['Dur', 'Proto', 'SrcAddr', 'Sport', 'DstAddr', 'Dport', 'sTos', 'dTos',\n",
    "       'TotBytes', 'SrcBytes', 'Dir_Translated',\n",
    "       'parsed_flags_source', 'parsed_flags_dest', 'actual_label',\n",
    "       'combined_state']\n",
    "duplicates = binetflow_ready_df[binetflow_ready_df.duplicated(subset=key_columns, keep=False)]\n",
    "\n",
    "# Display duplicates\n",
    "print(len(duplicates))"
   ]
  },
  {
   "cell_type": "code",
   "execution_count": 54,
   "id": "fe545a33",
   "metadata": {},
   "outputs": [
    {
     "data": {
      "text/plain": [
       "(2713777, 16)"
      ]
     },
     "execution_count": 54,
     "metadata": {},
     "output_type": "execute_result"
    }
   ],
   "source": [
    "binetflow_ready_df.drop_duplicates(subset=key_columns)\n",
    "binetflow_ready_df.shape"
   ]
  },
  {
   "cell_type": "code",
   "execution_count": 7,
   "id": "f2c40589",
   "metadata": {},
   "outputs": [
    {
     "data": {
      "text/plain": [
       "actual_label\n",
       "Background    0.98547\n",
       "Botnet        0.01453\n",
       "Name: proportion, dtype: float64"
      ]
     },
     "execution_count": 7,
     "metadata": {},
     "output_type": "execute_result"
    }
   ],
   "source": [
    "binetflow_ready_df['actual_label'].value_counts(normalize=True)"
   ]
  },
  {
   "cell_type": "markdown",
   "id": "eeed6953",
   "metadata": {},
   "source": [
    "### Sampling\n",
    "\n",
    "What if I tried sampling the data but keep the distribution of the label using stratified sampling?"
   ]
  },
  {
   "cell_type": "code",
   "execution_count": 55,
   "id": "55e6d520",
   "metadata": {},
   "outputs": [
    {
     "name": "stdout",
     "output_type": "stream",
     "text": [
      "actual_label\n",
      "Background    0.984966\n",
      "Botnet        0.015034\n",
      "Name: proportion, dtype: float64\n",
      "(27138, 16)\n"
     ]
    }
   ],
   "source": [
    "from sklearn.model_selection import train_test_split\n",
    "\n",
    "# Define the column(s) to stratify by\n",
    "stratify_column = 'actual_label' \n",
    "\n",
    "# Perform stratified sampling\n",
    "_, binetflow_sample = train_test_split(binetflow_ready_df, test_size=0.01, stratify=binetflow_ready_df[stratify_column], random_state=18)\n",
    "\n",
    "# Display the distribution of the stratified sample\n",
    "print(binetflow_sample[stratify_column].value_counts(normalize=True))\n",
    "print(binetflow_sample.shape)"
   ]
  },
  {
   "cell_type": "code",
   "execution_count": 87,
   "id": "6735867e",
   "metadata": {},
   "outputs": [],
   "source": [
    "# Checkpoint 5\n",
    "# Save as csv\n",
    "#binetflow_sample.drop('cluster', axis=1, inplace=True)\n",
    "#binetflow_sample.to_csv('sampled_binetflow.csv', index=False)\n",
    "\n",
    "# Load\n",
    "binetflow_final = pd.read_csv('sampled_binetflow.csv')"
   ]
  },
  {
   "cell_type": "markdown",
   "id": "ce43cb1d",
   "metadata": {},
   "source": [
    "## PCA"
   ]
  },
  {
   "cell_type": "code",
   "execution_count": 78,
   "id": "a729f773",
   "metadata": {},
   "outputs": [
    {
     "data": {
      "text/plain": [
       "StartTime              27138\n",
       "Dur                    13523\n",
       "Proto                      9\n",
       "SrcAddr                11046\n",
       "Sport                  19242\n",
       "DstAddr                 3619\n",
       "Dport                   3003\n",
       "sTos                       6\n",
       "dTos                       6\n",
       "TotBytes                3657\n",
       "SrcBytes                2209\n",
       "Dir_Translated             6\n",
       "parsed_flags_source       21\n",
       "parsed_flags_dest         20\n",
       "actual_label               2\n",
       "combined_state            13\n",
       "dtype: int64"
      ]
     },
     "execution_count": 78,
     "metadata": {},
     "output_type": "execute_result"
    }
   ],
   "source": [
    "binetflow_final.nunique()"
   ]
  },
  {
   "cell_type": "code",
   "execution_count": 88,
   "id": "4628081b",
   "metadata": {},
   "outputs": [],
   "source": [
    "binetflow_final['StartTime'] = pd.to_datetime(binetflow_final['StartTime'])\n",
    "binetflow_final['sTos'] = binetflow_final['sTos'].astype('category')\n",
    "binetflow_final['dTos'] = binetflow_final['dTos'].astype('category')\n",
    "binetflow_final['Proto'] = binetflow_final['Proto'].astype('category')\n",
    "binetflow_final['Dir_Translated'] = binetflow_final['Dir_Translated'].astype('category')\n",
    "binetflow_final['actual_label'] = binetflow_final['actual_label'].astype('category')\n",
    "binetflow_final['Sport'] = binetflow_final['Sport'].astype('category')\n",
    "binetflow_final['Dport'] = binetflow_final['Dport'].astype('category')\n",
    "binetflow_final['combined_state'] = binetflow_final['combined_state'].astype('category')"
   ]
  },
  {
   "cell_type": "markdown",
   "id": "dbf877b2",
   "metadata": {},
   "source": [
    "### Preprocessing\n",
    "\n",
    "Before doing PCA, we need to preprocess the categorical columns. I use frequency encoding for categorical columns with too many columns and are not ordinal (ports). I then use ordinal encoding for ordinal columns (ToS). I then use One-Hot Encoding for the rest of the categorical columns which spike up the number of columns. But don't worry, we'll use PCA to simplify things back again. Maybe PCA can see some patterns I can't see with naked eye."
   ]
  },
  {
   "cell_type": "code",
   "execution_count": 89,
   "id": "35fd3d80",
   "metadata": {},
   "outputs": [],
   "source": [
    "# Encoding Categorical Values\n",
    "from sklearn.preprocessing import OrdinalEncoder, OneHotEncoder\n",
    "\n",
    "# Frequency Encoding\n",
    "for col in ['Sport', 'Dport']:\n",
    "    binetflow_final[f'{col}_frequency'] = binetflow_final[col].map(binetflow_final[col].value_counts() / len(binetflow_final))\n",
    "\n",
    "# Orinal Encoding\n",
    "ordinal_features = ['sTos', 'dTos']\n",
    "oe = OrdinalEncoder()\n",
    "binetflow_final[ordinal_features] = oe.fit_transform(binetflow_final[ordinal_features])\n",
    "\n",
    "# One-Hot Encoding\n",
    "binetflow_final = pd.get_dummies(binetflow_final, columns=['Proto', 'Dir_Translated', 'parsed_flags_source', 'parsed_flags_dest', 'combined_state'], drop_first=True)"
   ]
  },
  {
   "cell_type": "code",
   "execution_count": 105,
   "id": "9a3fab83",
   "metadata": {},
   "outputs": [],
   "source": [
    "# Collect all encoded columns\n",
    "# Frequency Encoding columns\n",
    "frequency_encoded_cols = [f'{col}_frequency' for col in ['Sport', 'Dport']]\n",
    "\n",
    "# Ordinal Encoding columns\n",
    "ordinal_encoded_cols = ['sTos', 'dTos']\n",
    "\n",
    "# One-Hot Encoding columns (after dropping the first category to avoid multicollinearity)\n",
    "one_hot_encoded_cols = [col for col in binetflow_final.columns if col.startswith(('Proto_', 'Dir_Translated_', 'parsed_flags_source_', 'parsed_flags_dest_', 'combined_state_'))]\n",
    "\n",
    "# Combine all encoded columns\n",
    "all_encoded_cols = frequency_encoded_cols + ordinal_encoded_cols + one_hot_encoded_cols\n",
    "\n",
    "# Create a DataFrame with these encoded columns\n",
    "encoded_categorical_df = binetflow_final[all_encoded_cols].copy()"
   ]
  },
  {
   "cell_type": "code",
   "execution_count": 108,
   "id": "a1d12586",
   "metadata": {},
   "outputs": [],
   "source": [
    "from sklearn.preprocessing import StandardScaler\n",
    "\n",
    "numerical_columns = binetflow_final.select_dtypes(include=['number']).columns\n",
    "numerical_df = binetflow_final[numerical_columns].copy()\n",
    "df_combined = pd.concat([numerical_df, encoded_categorical_df], axis=1)\n",
    "\n",
    "scaler = StandardScaler()\n",
    "df_combined_scaled = df_combined.copy()\n",
    "df_combined_scaled[numerical_columns] = scaler.fit_transform(df_combined[numerical_columns])"
   ]
  },
  {
   "cell_type": "code",
   "execution_count": 112,
   "id": "00479194",
   "metadata": {},
   "outputs": [
    {
     "name": "stdout",
     "output_type": "stream",
     "text": [
      "Explained variance by components: [0.27743055 0.22737005 0.16662494 0.10309661 0.09897734 0.05868146\n",
      " 0.02922132]\n",
      "Cumulative sum: [0.27743055 0.5048006  0.67142553 0.77452214 0.87349948 0.93218094\n",
      " 0.96140226]\n",
      "Total explained variance: 0.9614022648434788\n"
     ]
    },
    {
     "data": {
      "image/png": "[encoded data removed]",
      "text/plain": [
       "<Figure size 640x480 with 1 Axes>"
      ]
     },
     "metadata": {},
     "output_type": "display_data"
    }
   ],
   "source": [
    "from sklearn.decomposition import PCA\n",
    "import matplotlib.pyplot as plt\n",
    "\n",
    "pca = PCA(n_components=0.95)  # Retain enough components to explain 95% variance\n",
    "df_pca = pca.fit_transform(df_combined_scaled)\n",
    "\n",
    "explained_variance = pca.explained_variance_ratio_\n",
    "cumulative_explained_variance = np.cumsum(explained_variance)\n",
    "print(f'Explained variance by components: {explained_variance}')\n",
    "print(f'Cumulative sum: {cumulative_explained_variance}')\n",
    "print(f'Total explained variance: {sum(explained_variance)}')\n",
    "\n",
    "plt.plot(np.cumsum(pca.explained_variance_ratio_))\n",
    "plt.xlabel('Number of Components')\n",
    "plt.ylabel('Cumulative Explained Variance')\n",
    "plt.title('Explained Variance by PCA Components')\n",
    "plt.show()"
   ]
  },
  {
   "cell_type": "markdown",
   "id": "429ea502",
   "metadata": {},
   "source": [
    "We have succesfully reduced the lengthy 75 columns to just 7 columns that can explain the variance of the dataset quite well, up until 95% of the variance. "
   ]
  },
  {
   "cell_type": "markdown",
   "id": "d4fe2260",
   "metadata": {},
   "source": [
    "### Background vs Botnet\n",
    "\n",
    "Exploring some key features the Background and Botnet traffics seem to have and differ from each other."
   ]
  },
  {
   "cell_type": "code",
   "execution_count": 120,
   "id": "64cd7b41",
   "metadata": {},
   "outputs": [],
   "source": [
    "binetflow_final = pd.read_csv('sampled_binetflow.csv')"
   ]
  },
  {
   "cell_type": "code",
   "execution_count": 121,
   "id": "95347f7c",
   "metadata": {},
   "outputs": [
    {
     "data": {
      "image/png": "[encoded data removed]",
      "text/plain": [
       "<Figure size 640x480 with 1 Axes>"
      ]
     },
     "metadata": {},
     "output_type": "display_data"
    }
   ],
   "source": [
    "import matplotlib.pyplot as plt\n",
    "\n",
    "label_counts = binetflow_final['actual_label'].value_counts()\n",
    "plt.pie(label_counts, labels=label_counts.index, autopct='%1.1f%%', colors=['#ff9999','#66b3ff'])\n",
    "plt.title('Distribution of Background vs Botnet Traffic')\n",
    "plt.show()"
   ]
  },
  {
   "cell_type": "code",
   "execution_count": 131,
   "id": "d962e0c5",
   "metadata": {},
   "outputs": [
    {
     "data": {
      "image/png": "[encoded data removed]",
      "text/plain": [
       "<Figure size 640x480 with 1 Axes>"
      ]
     },
     "metadata": {},
     "output_type": "display_data"
    },
    {
     "data": {
      "image/png": "[encoded data removed]",
      "text/plain": [
       "<Figure size 640x480 with 2 Axes>"
      ]
     },
     "metadata": {},
     "output_type": "display_data"
    }
   ],
   "source": [
    "import seaborn as sns\n",
    "\n",
    "# Filter for botnet traffic\n",
    "botnet_df = binetflow_final[binetflow_final['actual_label'] == 'Botnet']\n",
    "\n",
    "# Plot frequency of source IP addresses\n",
    "sns.countplot(data=botnet_df, x='SrcAddr')\n",
    "plt.xticks(rotation=90)\n",
    "plt.title('Frequency of Source IP Addresses for Botnet Traffic')\n",
    "plt.show()\n",
    "\n",
    "# If you want to use a heatmap for IPs\n",
    "# First, you might need to aggregate the data based on IP addresses\n",
    "# Example:\n",
    "ip_heatmap_data = botnet_df.groupby(['SrcAddr', 'Dport']).size().unstack(fill_value=0)\n",
    "sns.heatmap(ip_heatmap_data, cmap='YlGnBu')\n",
    "plt.title('Heatmap of Botnet Traffic by Source IP and Port')\n",
    "plt.show()"
   ]
  },
  {
   "cell_type": "code",
   "execution_count": 127,
   "id": "d8976b92",
   "metadata": {},
   "outputs": [
    {
     "data": {
      "image/png": "[encoded data removed]",
      "text/plain": [
       "<Figure size 640x480 with 1 Axes>"
      ]
     },
     "metadata": {},
     "output_type": "display_data"
    }
   ],
   "source": [
    "# Filter for botnet traffic\n",
    "botnet_df = binetflow_final[binetflow_final['actual_label'] == 'Botnet']\n",
    "ports_protocols = botnet_df.groupby(['Sport', 'Proto']).size().reset_index(name='Count')\n",
    "\n",
    "sns.barplot(data=ports_protocols, x='Proto', y='Count')\n",
    "plt.xticks(rotation=90)\n",
    "plt.title('Protocols Used by Botnet Traffic')\n",
    "plt.show()"
   ]
  },
  {
   "cell_type": "code",
   "execution_count": 130,
   "id": "96a8c27b",
   "metadata": {},
   "outputs": [
    {
     "data": {
      "image/png": "[encoded data removed]",
      "text/plain": [
       "<Figure size 640x480 with 1 Axes>"
      ]
     },
     "metadata": {},
     "output_type": "display_data"
    }
   ],
   "source": [
    "# Filter for botnet traffic\n",
    "botnet_df = binetflow_final[binetflow_final['actual_label'] == 'Botnet']\n",
    "flags_states = botnet_df.groupby(['parsed_flags_source', 'parsed_flags_dest', 'combined_state']).size().reset_index(name='Count')\n",
    "\n",
    "sns.barplot(data=flags_states, x='combined_state', y='Count', hue='parsed_flags_source')\n",
    "plt.xticks(rotation=90)\n",
    "plt.title('Flags and States for Botnet Traffic')\n",
    "plt.show()"
   ]
  },
  {
   "cell_type": "markdown",
   "id": "c8d94cc2",
   "metadata": {},
   "source": [
    "Insights:\n",
    "\n",
    "1. Data is heavily imbalanced, majority of data is background traffic.\n",
    "2. The Neris malware only infects one computer with the IP address: 147.32.84.165, it frequently uses the port 25 (SMTP) and 53 (DNS).\n",
    "3. Neris mostly uses UDP rather than TCP.\n",
    "4. Most flags are initialization/synchronization flags, nothing particularly unusual. \n",
    "5. Packets sent by Neris are limited to only a few kilobytes and its packet sent distribution closely ressembles that of background traffics."
   ]
  },
  {
   "cell_type": "markdown",
   "id": "4c8ea692",
   "metadata": {},
   "source": [
    "## Credits\n",
    "\n",
    "\"An empirical comparison of botnet detection methods\" Sebastian Garcia, Martin Grill, Jan Stiborek and Alejandro Zunino. Computers and Security Journal, Elsevier. 2014. Vol 45, pp 100-123. http://dx.doi.org/10.1016/j.cose.2014.05.011"
   ]
  }
 ],
 "metadata": {
  "kernelspec": {
   "display_name": "Python 3 (ipykernel)",
   "language": "python",
   "name": "python3"
  },
  "language_info": {
   "codemirror_mode": {
    "name": "ipython",
    "version": 3
   },
   "file_extension": ".py",
   "mimetype": "text/x-python",
   "name": "python",
   "nbconvert_exporter": "python",
   "pygments_lexer": "ipython3",
   "version": "3.11.5"
  }
 },
 "nbformat": 4,
 "nbformat_minor": 5
}
